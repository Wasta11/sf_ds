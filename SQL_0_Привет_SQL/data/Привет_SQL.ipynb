{
 "cells": [
  {
   "attachments": {},
   "cell_type": "markdown",
   "metadata": {},
   "source": [
    "# 1_Что такое базы данных?"
   ]
  },
  {
   "attachments": {},
   "cell_type": "markdown",
   "metadata": {},
   "source": [
    "## ЧТО ТАКОЕ БАЗЫ ДАННЫХ?"
   ]
  },
  {
   "attachments": {},
   "cell_type": "markdown",
   "metadata": {},
   "source": [
    "         База данных — это организованная структура для хранения, изменения и обработки взаимосвязанной информации."
   ]
  },
  {
   "attachments": {},
   "cell_type": "markdown",
   "metadata": {},
   "source": [
    "В современном мире базы данных применяются практически везде — без них не обходится ни одна большая компания (от интернет-магазинов до банков).\n",
    "\n",
    "Например, когда вы заходите на сайт и вводите логин и пароль, программа проверяет, есть ли в базе данных такая пара. Другой пример: именно в базах хранятся данные о посещениях, покупках, контактах пользователей (или покупателей) и т. д."
   ]
  },
  {
   "attachments": {},
   "cell_type": "markdown",
   "metadata": {},
   "source": [
    "## ВИДЫ БАЗ ДАННЫХ"
   ]
  },
  {
   "attachments": {},
   "cell_type": "markdown",
   "metadata": {},
   "source": [
    "Базы данных можно разделить на два вида:\n",
    "\n",
    "* Реляционные. В таких БД данные хранятся в виде связанных таблиц. В этом курсе мы сфокусируемся именно на реляционных БД.\n",
    "* Нереляционные. Такие БД имеют специфическую структуру: например, данные хранятся в формате ключ-значение или в виде дерева."
   ]
  },
  {
   "attachments": {},
   "cell_type": "markdown",
   "metadata": {},
   "source": [
    "## ХРАНЕНИЕ ДАННЫХ В БД"
   ]
  },
  {
   "attachments": {},
   "cell_type": "markdown",
   "metadata": {},
   "source": [
    "Данные в реляционных БД хранятся в виде таблиц. Каждая таблица обычно содержит данные, относящиеся к похожим объектам. У каждой таблицы есть название: оно соотносится с тем, какая информация хранится в таблице.\n",
    "\n",
    "Например, у интернет-магазина будут таблицы customers с информацией о покупателях, carts — с информацией о корзинах, products — с информацией о товарах и так далее.\n",
    "\n",
    "Таблицы в БД состоят из строк и столбцов. Каждый столбец имеет своё уникальное название, которое также отмечает вид хранимой в нём информации. В каждой строке хранится информация об одном объекте.\n",
    "\n",
    "Таблица содержит определённое число столбцов, но может иметь любое количество строк.\n",
    "\n",
    "В таблице ниже представлена информация о клиентах: имя, адрес, выручка и др. — разбитая на столбцы и строки."
   ]
  },
  {
   "cell_type": "code",
   "execution_count": 1,
   "metadata": {},
   "outputs": [
    {
     "data": {
      "text/html": [
       "<img src=\"https://lms.skillfactory.ru/assets/courseware/v1/9f20029e0e506cc4b18b145f6700fe1c/asset-v1:SkillFactory+DSPR-2.0+14JULY2021+type@asset+block/dst3-u2-md0_1_1.png\"/>"
      ],
      "text/plain": [
       "<IPython.core.display.Image object>"
      ]
     },
     "execution_count": 1,
     "metadata": {},
     "output_type": "execute_result"
    }
   ],
   "source": [
    "# import image module\n",
    "from IPython.display import Image\n",
    "\n",
    "# get the image\n",
    "Image(url=\"https://lms.skillfactory.ru/assets/courseware/v1/9f20029e0e506cc4b18b145f6700fe1c/asset-v1:SkillFactory+DSPR-2.0+14JULY2021+type@asset+block/dst3-u2-md0_1_1.png\")"
   ]
  },
  {
   "attachments": {},
   "cell_type": "markdown",
   "metadata": {},
   "source": [
    "         Обратите внимание! Для связи данных в разных таблицах часто используют ID — уникальный идентификатор какой-либо строки. Имя или какой-либо признак с этой целью не используются, поскольку они могут быть неуникальными."
   ]
  },
  {
   "attachments": {},
   "cell_type": "markdown",
   "metadata": {},
   "source": [
    "## СИСТЕМЫ УПРАВЛЕНИЯ БАЗАМИ ДАННЫХ"
   ]
  },
  {
   "attachments": {},
   "cell_type": "markdown",
   "metadata": {},
   "source": [
    "Данные мало хранить — с ними нужно работать: записывать, модифицировать и удалять. В этом помогает СУБД.\n",
    "\n",
    "         Система управления базами данных, или СУБД (от англ. DataBase Management System, DBMS) — это комплекс программных средств, необходимых для создания структуры новой базы, её наполнения, редактирования содержимого и отображения информации.\n",
    "\n",
    "Существует множество СУБД, наиболее распространённые из них — MySQL, PostgreSQL, Oracle, Microsoft SQL Server. Для очень большого объёма данных также используют ClickHouse, Hadoop и др."
   ]
  },
  {
   "attachments": {},
   "cell_type": "markdown",
   "metadata": {},
   "source": [
    "Для работы с данными, хранящимися в БД, используется специальный язык — SQL, который мы и будем изучать. Для работы с разными СУБД используются разные диалекты SQL."
   ]
  },
  {
   "attachments": {},
   "cell_type": "markdown",
   "metadata": {},
   "source": [
    "# 2. Что такое SQL?"
   ]
  },
  {
   "attachments": {},
   "cell_type": "markdown",
   "metadata": {},
   "source": [
    "✍ Как вы уже знаете, для взаимодействия с базами данных через СУБД часто используется язык SQL (Structured Query Language). Он применяется для создания, модификации и управления данными.\n",
    "\n",
    "С его помощью составляются запросы — своего рода вопросы, которые мы задаём, чтобы получить некоторую информацию о данных, хранящихся в БД.\n",
    "\n",
    "         SQL-запрос представляет собой совокупность операторов, инструкций, вычисляемых функций.\n",
    "\n",
    "Базы данных могут не только возвращать данные, которые вы просите, но и выполнять различные расширенные вычисления."
   ]
  },
  {
   "attachments": {},
   "cell_type": "markdown",
   "metadata": {},
   "source": [
    "## ВИДЫ ОПЕРАТОРОВ SQL"
   ]
  },
  {
   "attachments": {},
   "cell_type": "markdown",
   "metadata": {},
   "source": [
    "Операторы SQL делятся на:\n",
    "\n",
    "* операторы определения данных (Data Definition Language, DDL) — с их помощью создаются и изменяются объекты в БД (сама БД, таблицы, функции, процедуры, пользователи и т. д.);\n",
    "* операторы манипуляции данными (Data Manipulation Language, DML) — с их помощью проводятся манипуляции с данными в таблицах;\n",
    "* операторы определения доступа к данным (Data Control Language, DCL) — с их помощью, как следует из названия, создаются и изменяются разрешения на определённые операции с объектами в БД;\n",
    "* операторы управления транзакциями (Transaction Control Language, TCL) — с их помощью осуществляется комплекс определённых действий, причём так, что либо все эти действия выполняются успешно, либо ни одно из них не выполняется вообще.\n",
    "\n",
    "→ Мы будем изучать только DML-операторы (для манипуляций с данными), а конкретнее — оператор SELECT, который позволяет выбрать из БД интересующие нас данные."
   ]
  },
  {
   "attachments": {},
   "cell_type": "markdown",
   "metadata": {},
   "source": [
    "# 3_Что такое Metabase?"
   ]
  },
  {
   "attachments": {},
   "cell_type": "markdown",
   "metadata": {},
   "source": [
    "✍ Для написания запросов к БД необходим специальный инструмент. Это может быть терминал в ОС, специализированная программа (например, одна из распространённых — DataGrip) или веб-сервис. Именно такой веб-сервис мы будем использовать.\n",
    "\n",
    "         Metabase — это бесплатный и удобный инструмент для первичного анализа данных с возможностью передавать запросы."
   ]
  },
  {
   "attachments": {},
   "cell_type": "markdown",
   "metadata": {},
   "source": [
    "## КАК НАПИСАТЬ ЗАПРОС К БД?"
   ]
  },
  {
   "attachments": {},
   "cell_type": "markdown",
   "metadata": {},
   "source": [
    "Чтобы писать запросы к БД, в правом верхнем углу нажмите на кнопку Cоздать запрос и выберите Прямой запрос справа."
   ]
  },
  {
   "cell_type": "code",
   "execution_count": 3,
   "metadata": {},
   "outputs": [
    {
     "data": {
      "text/html": [
       "<img src=\"https://lms.skillfactory.ru/assets/courseware/v1/7cdd7f59e35368e149a3dc18880a02b8/asset-v1:SkillFactory+DSPR-2.0+14JULY2021+type@asset+block/dst3-u2-md0_3_2.png\"/>"
      ],
      "text/plain": [
       "<IPython.core.display.Image object>"
      ]
     },
     "execution_count": 3,
     "metadata": {},
     "output_type": "execute_result"
    }
   ],
   "source": [
    "# import image module\n",
    "from IPython.display import Image\n",
    "\n",
    "# get the image\n",
    "Image(url=\"https://lms.skillfactory.ru/assets/courseware/v1/7cdd7f59e35368e149a3dc18880a02b8/asset-v1:SkillFactory+DSPR-2.0+14JULY2021+type@asset+block/dst3-u2-md0_3_2.png\")"
   ]
  },
  {
   "attachments": {},
   "cell_type": "markdown",
   "metadata": {},
   "source": [
    "Metabase позволяет создавать запросы в собственном конструкторе, но мы будем работать только в редакторе SQL-запросов.\n",
    "\n",
    "В основном окне редактора, сверху, вы будете писать запросы, ниже  — увидите результат вашего запроса. Справа с помощью кнопки-«книжки» можно изучить содержимое таблиц в БД."
   ]
  },
  {
   "cell_type": "code",
   "execution_count": 4,
   "metadata": {},
   "outputs": [
    {
     "data": {
      "text/html": [
       "<img src=\"https://lms.skillfactory.ru/assets/courseware/v1/466c721cd134a8090fe092483faf3f66/asset-v1:SkillFactory+DSPR-2.0+14JULY2021+type@asset+block/dst3-u2-md0_3_1.png\"/>"
      ],
      "text/plain": [
       "<IPython.core.display.Image object>"
      ]
     },
     "execution_count": 4,
     "metadata": {},
     "output_type": "execute_result"
    }
   ],
   "source": [
    "# import image module\n",
    "from IPython.display import Image\n",
    "\n",
    "# get the image\n",
    "Image(url=\"https://lms.skillfactory.ru/assets/courseware/v1/466c721cd134a8090fe092483faf3f66/asset-v1:SkillFactory+DSPR-2.0+14JULY2021+type@asset+block/dst3-u2-md0_3_1.png\")"
   ]
  },
  {
   "attachments": {},
   "cell_type": "markdown",
   "metadata": {},
   "source": [
    "Вы можете самостоятельно поизучать функционал, который предлагает Metabase.\n",
    "\n",
    "Тем более что пришло время написать ваш первый SQL-запрос!"
   ]
  }
 ],
 "metadata": {
  "kernelspec": {
   "display_name": "Python 3",
   "language": "python",
   "name": "python3"
  },
  "language_info": {
   "codemirror_mode": {
    "name": "ipython",
    "version": 3
   },
   "file_extension": ".py",
   "mimetype": "text/x-python",
   "name": "python",
   "nbconvert_exporter": "python",
   "pygments_lexer": "ipython3",
   "version": "3.9.10"
  },
  "orig_nbformat": 4,
  "vscode": {
   "interpreter": {
    "hash": "25ef66b64f87b83de5678661cf05678b8b270938559328a8b229cefd9dd529c6"
   }
  }
 },
 "nbformat": 4,
 "nbformat_minor": 2
}
