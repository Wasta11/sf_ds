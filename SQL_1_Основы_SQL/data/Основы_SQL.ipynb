{
 "cells": [
  {
   "attachments": {},
   "cell_type": "markdown",
   "metadata": {},
   "source": [
    "# 1_Получаем все данные из таблицы"
   ]
  },
  {
   "attachments": {},
   "cell_type": "markdown",
   "metadata": {},
   "source": [
    "✍ Как вы помните, данные в БД хранятся в таблицах. В этом модуле мы будем работать с таблицей kinopoisk: она содержит данные о 250 лучших фильмах по версии сервиса «Кинопоиск» (рейтинг собран в мае 2020 года)."
   ]
  },
  {
   "attachments": {},
   "cell_type": "markdown",
   "metadata": {},
   "source": [
    "Давайте посмотрим на таблицу kinopoisk и изучим, какие данные в ней хранятся:"
   ]
  },
  {
   "attachments": {},
   "cell_type": "markdown",
   "metadata": {},
   "source": [
    "ПОПРОБУЙТЕ В METABASE!\n",
    "\n",
    "SELECT *\n",
    "\n",
    "FROM sql.kinopoisk\n",
    "\n",
    "В результате вы увидите всё содержимое таблицы."
   ]
  },
  {
   "attachments": {},
   "cell_type": "markdown",
   "metadata": {},
   "source": [
    "         Обратите внимание! Metabase выводит только первые 2 000 строк: в нашем случае таблица полностью уместилась в выводе."
   ]
  },
  {
   "attachments": {},
   "cell_type": "markdown",
   "metadata": {},
   "source": [
    "При этом отображена только часть вывода, поскольку не все строки и столбцы влезли на экран. Вы можете увидеть всё содержимое таблицы, прокрутив страницу по вертикали и горизонтали.\n",
    "\n",
    "Что ещё мы видим? Числа отображаются в американском формате (с десятичным разделителем — точкой и разделителем разрядов — запятой).\n",
    "\n",
    "Теперь давайте разберём запрос, благодаря которому мы получили такой результат."
   ]
  },
  {
   "attachments": {},
   "cell_type": "markdown",
   "metadata": {},
   "source": [
    "         !РАЗБИРАЕМ ЗАПРОС\n",
    "\n",
    "→ Оператор SELECT сообщает СУБД, что вы хотите извлечь из неё данные. SELECT лежит в основе любого SQL-запроса к БД.\n",
    "\n",
    "→ FROM sql.kinopoisk сообщает, из какой таблицы извлекаются данные. Сначала указывается название схемы, в которой содержится таблица (в нашем случае — это sql), а после точки — название самой таблицы (kinopoisk).\n",
    "\n",
    "→ Звёздочка * указывает, что вы хотите видеть все столбцы этой таблицы."
   ]
  },
  {
   "attachments": {},
   "cell_type": "markdown",
   "metadata": {},
   "source": [
    "Если же вам нужны не все столбцы, а только некоторые, вместо звёздочки перечислите названия всех интересующих вас столбцов через запятую.\n",
    "\n",
    "         Важно! SQL нечувствителен к регистру, поэтому ключевые слова можно писать хоть строчными, хоть прописными буквами: SELECT, select или SeLeCt."
   ]
  },
  {
   "attachments": {},
   "cell_type": "markdown",
   "metadata": {},
   "source": [
    "Допустим, вы хотите написать запрос, аналогичный запросу из задания, только вместо года выхода фильма, вам нужен его «возраст» на 2020 год.\n",
    "\n",
    "В таком случае наш запрос будет выглядеть так:"
   ]
  },
  {
   "attachments": {},
   "cell_type": "markdown",
   "metadata": {},
   "source": [
    "SELECT /*выбор столбцов*/\n",
    "\n",
    "movie_title, /*столбец movie_title*/\n",
    "\n",
    "2020 - year, /*столбец, каждое из значений которого ровно разнице 2020 и соответствующего значения столбца year*/\n",
    "\n",
    "rating /*столбец rating*/\n",
    "    \n",
    "FROM sql.kinopoisk /*из таблицы sql.kinopoisk*/"
   ]
  },
  {
   "attachments": {},
   "cell_type": "markdown",
   "metadata": {},
   "source": [
    "То есть мы отняли от 2020 года год выхода фильма и получили его возраст! Элементарно!"
   ]
  },
  {
   "attachments": {},
   "cell_type": "markdown",
   "metadata": {},
   "source": [
    "ЧТО МЫ ВИДИМ?\n",
    "\n",
    "Столбец с вычислениями в выводе называется ?column?, потому что Metabase не смог подобрать для него название.\n",
    "\n",
    "Давайте наведём порядок и переименуем столбец!"
   ]
  },
  {
   "attachments": {},
   "cell_type": "markdown",
   "metadata": {},
   "source": [
    "Для этого используем ключевое слово AS и поставим после него новое имя difference. Можем повторить этот процесс для каждого столбца."
   ]
  },
  {
   "attachments": {},
   "cell_type": "markdown",
   "metadata": {},
   "source": [
    "SELECT /*выбрать столбцы*/\n",
    "\n",
    "director, /*столбец director*/\n",
    "\n",
    "movie_title, /*столбец movie_title*/\n",
    "\n",
    "10 - rating AS difference /*столбец, значения в котором равны разнице 10 и каждого соответствующего значения столбца rating; присвоить столбцу алиас difference*/\n",
    "\n",
    "FROM sql.kinopoisk /*из таблицы sql.kinopoisk*/"
   ]
  },
  {
   "attachments": {},
   "cell_type": "markdown",
   "metadata": {},
   "source": [
    "Новое имя является просто псевдонимом, или алиасом, — оно временное и не меняет реального имени столбца в базе данных. Алиас влияет только на то, как столбец отображается в выводе конкретного запроса.\n",
    "\n",
    "Алиасом может быть как одно слово, так и несколько, а его написание — как латиницей, так и кириллицей.\n",
    "\n",
    "         Обратите внимание! Если в алиасе используются пробелы, необходимо заключать весь псевдоним в двойные кавычки, например, movie_title AS \"Movie Title\".\n",
    "\n",
    "         ⚡ Будьте внимательны! При выполнении заданий в рамках курса используйте алиасы аккуратно. Если в задаче не указано, какое имя нужно присвоить столбцу, значит, его нужно выводить под тем же названием, что дано ему в таблице."
   ]
  },
  {
   "attachments": {},
   "cell_type": "markdown",
   "metadata": {},
   "source": [
    "## ПРОСТЫЕ ОПЕРАЦИИ С ДАННЫМИ"
   ]
  },
  {
   "attachments": {},
   "cell_type": "markdown",
   "metadata": {},
   "source": [
    "Со столбцами, которые содержат числовые данные, можно проводить арифметические операции:\n",
    "\n",
    "* сложение с помощью + ;\n",
    "* вычитание с помощью - (этот тип операции вы уже проводили, когда определяли «возраст» фильма);\n",
    "* умножение с помощью * ;\n",
    "* деление с помощью / ;\n",
    "         \n",
    "         Важно! Если и числитель, и знаменатель — целые числа, результат деления также будет целочисленным, то есть этот оператор произведёт деление нацело.\n",
    "\n",
    "* получение остатка от деления с помощью % ."
   ]
  },
  {
   "attachments": {},
   "cell_type": "markdown",
   "metadata": {},
   "source": [
    "# 2_Фильтруем строки"
   ]
  },
  {
   "attachments": {},
   "cell_type": "markdown",
   "metadata": {},
   "source": [
    "## WHERE"
   ]
  },
  {
   "attachments": {},
   "cell_type": "markdown",
   "metadata": {},
   "source": [
    "Мы уже знаем, что делать, если нам нужны лишь несколько столбцов из таблицы.\n",
    "\n",
    "?\n",
    "Но как быть, если мы хотим видеть не все строки, а только некоторые из них?\n",
    "\n",
    "В таком случае нам пригодится ключевое слово WHERE."
   ]
  },
  {
   "attachments": {},
   "cell_type": "markdown",
   "metadata": {},
   "source": [
    "Получим для примера всю информации о фильме, занимающем первую позицию."
   ]
  },
  {
   "attachments": {},
   "cell_type": "markdown",
   "metadata": {},
   "source": [
    "SELECT * /*выбор всех столбцов*/\n",
    "\n",
    "\n",
    "FROM sql.kinopoisk /*из таблицы sql.kinopoisk*/\n",
    "\n",
    "WHERE position = 1 /*с позицией 1*/"
   ]
  },
  {
   "attachments": {},
   "cell_type": "markdown",
   "metadata": {},
   "source": [
    "В запросах выше мы использовали знак равно (=), но никто не запретит нам использовать и условные операторы.\n",
    "\n",
    "Вы можете применять знаки < (меньше), <= (меньше или равно), > (больше), >= (больше или равно)."
   ]
  },
  {
   "attachments": {},
   "cell_type": "markdown",
   "metadata": {},
   "source": [
    "Посмотрим на фильмы, которые вышли в прокат до 1984 года."
   ]
  },
  {
   "attachments": {},
   "cell_type": "markdown",
   "metadata": {},
   "source": [
    "SELECT /*выбор всех полей*/\n",
    "    \n",
    "position, /*столбец position*/\n",
    "\n",
    "movie_title, /*столбец movie_title*/\n",
    "\n",
    "year, /*столбец year*/\n",
    "\n",
    "director /*столбец director*/\n",
    "\n",
    "FROM sql.kinopoisk /*из таблицы sql.kinopoisk*/\n",
    "\n",
    "WHERE year < 1984 /*при условии, что год создания меньше 1984*/"
   ]
  },
  {
   "attachments": {},
   "cell_type": "markdown",
   "metadata": {},
   "source": [
    "При этом вы можете комбинировать вывод конкретных столбцов и условия.\n",
    "\n",
    "* Ещё один условный оператор, который нам доступен, — знак неравенства != или <>."
   ]
  },
  {
   "attachments": {},
   "cell_type": "markdown",
   "metadata": {},
   "source": [
    "Выведем все столбцы для всех фильмов, кроме тех, что были сняты в 2000 году.\n",
    "\n"
   ]
  },
  {
   "attachments": {},
   "cell_type": "markdown",
   "metadata": {},
   "source": [
    "SELECT * /*выбор всех полей*/\n",
    "\n",
    "FROM sql.kinopoisk /*из таблицы sql.kinopoisk*/\n",
    "\n",
    "WHERE year <> 2000 /*если год создания не 2000*/"
   ]
  },
  {
   "attachments": {},
   "cell_type": "markdown",
   "metadata": {},
   "source": [
    "## AND И OR"
   ]
  },
  {
   "attachments": {},
   "cell_type": "markdown",
   "metadata": {},
   "source": [
    "Допустим, одного условия нам мало.\n",
    "\n",
    "В таком случае мы можем комбинировать их с помощью AND и OR."
   ]
  },
  {
   "attachments": {},
   "cell_type": "markdown",
   "metadata": {},
   "source": [
    "Типичная ситуация: выбираем фильм на вечер. Мы хотим, чтобы фильм был относительно современным и с высоким рейтингом."
   ]
  },
  {
   "attachments": {},
   "cell_type": "markdown",
   "metadata": {},
   "source": [
    "SELECT * /*выбор всех полей*/\n",
    "\n",
    "FROM sql.kinopoisk /*из таблицы sql.kinopoisk*/\n",
    "\n",
    "WHERE year >= 2000 /*при условии, что год создания больше или равен 2000*/\n",
    "\n",
    "AND rating >= 8 /*и с рейтингом от 8 и выше*/"
   ]
  },
  {
   "attachments": {},
   "cell_type": "markdown",
   "metadata": {},
   "source": [
    "Попробуйте заменить в запросе AND на OR — так вы получите фильмы, которые или вышли в 2000 году и позднее, или имеют высокий рейтинг."
   ]
  },
  {
   "attachments": {},
   "cell_type": "markdown",
   "metadata": {},
   "source": [
    "Теперь вы хотите получить информацию о фильмах, которые вышли между 1975 и 1985 годами включительно. Можно воспользоваться следующим запросом:"
   ]
  },
  {
   "attachments": {},
   "cell_type": "markdown",
   "metadata": {},
   "source": [
    "SELECT * /*выбор всех полей*/\n",
    "\n",
    "FROM sql.kinopoisk /*из таблицы sqk.kinopoisk*/\n",
    "\n",
    "WHERE year >= 1975 /*при условии, что год создания 1975 и позднее*/\n",
    "\n",
    "AND year <= 1985 /*и ранее 1985*/"
   ]
  },
  {
   "attachments": {},
   "cell_type": "markdown",
   "metadata": {},
   "source": [
    "## BETWEEN"
   ]
  },
  {
   "attachments": {},
   "cell_type": "markdown",
   "metadata": {},
   "source": [
    "Мы только что отправили запрос для вывода данных по фильмам с 1975 и 1985 годы. Цели мы достигли, но сама запись оставляет желать лучшего."
   ]
  },
  {
   "attachments": {},
   "cell_type": "markdown",
   "metadata": {},
   "source": [
    "Можем оптимизировать её, сделав более элегантной с помощью BETWEEN:"
   ]
  },
  {
   "attachments": {},
   "cell_type": "markdown",
   "metadata": {},
   "source": [
    "SELECT * /*выбор всех полей*/\n",
    "\n",
    "FROM sql.kinopoisk /*из таблиц sql.kinopoisk*/\n",
    "\n",
    "WHERE year BETWEEN 1975 AND 1985 /*при условии, что год создания лежит в промежутке между 1975 и 1985*/"
   ]
  },
  {
   "attachments": {},
   "cell_type": "markdown",
   "metadata": {},
   "source": [
    "Если вы знаете английский, назначение BETWEEN не станет для вас неожиданностью: оператор фильтрует строки, которые находятся между двумя значениями.\n",
    "\n",
    "         Обратите внимание! В PostgreSQL указанные значения включаются в интервал. В других СУБД BETWEEN может работать иначе и не включать указанные значения."
   ]
  },
  {
   "attachments": {},
   "cell_type": "markdown",
   "metadata": {},
   "source": [
    "## NOT"
   ]
  },
  {
   "attachments": {},
   "cell_type": "markdown",
   "metadata": {},
   "source": [
    "В дополнение к другим операторам можно использовать ключевое слово NOT — оно «переворачивает» следующий за ним оператор."
   ]
  },
  {
   "attachments": {},
   "cell_type": "markdown",
   "metadata": {},
   "source": [
    "Выведем все фильмы, кроме тех, что вышли с 1965 по 1980 годы."
   ]
  },
  {
   "attachments": {},
   "cell_type": "markdown",
   "metadata": {},
   "source": [
    "SELECT * /*выбор всех полей*/\n",
    "\n",
    "FROM sql.kinopoisk /*из таблицы sql.kinopoisk*/\n",
    "\n",
    "WHERE year NOT BETWEEN 1965 AND 1980 /*при условии, что год создания не лежит в промежутке между 1965 и 1980*/"
   ]
  },
  {
   "attachments": {},
   "cell_type": "markdown",
   "metadata": {},
   "source": [
    "Если включаете в запрос несколько условий AND и OR, используйте скобки: они работают так же, как и с арифметическими операциями.\n",
    "\n",
    "         Важно! Условия в скобках имеют больший приоритет."
   ]
  },
  {
   "attachments": {},
   "cell_type": "markdown",
   "metadata": {},
   "source": [
    "SELECT /*выбор*/\n",
    "\n",
    "year, /*столбец year*/\n",
    "\n",
    "movie_title, /*столбец movie_title*/\n",
    "\n",
    "director /*столбец director*/\n",
    "\n",
    "FROM sql.kinopoisk /*из таблицы sql.kinopoisk*/\n",
    "\n",
    "WHERE (rating > 8.5 AND year < 2000) /*при условии, что рейтинг больше 8.5 и год создания до 2000*/\n",
    "    \n",
    "OR year >= 2000 /*или год создания — 2000 и позднее*/"
   ]
  },
  {
   "attachments": {},
   "cell_type": "markdown",
   "metadata": {},
   "source": [
    "## IN"
   ]
  },
  {
   "attachments": {},
   "cell_type": "markdown",
   "metadata": {},
   "source": [
    "Ещё один полезный оператор для фильтрации строк — IN.\n",
    "\n",
    "Конструкции с IN имеют следующий вид:\n",
    "\n",
    "    column IN (value1, value2, value3)\n",
    "Эта запись аналогична следующей: column = value1 OR column = value2 OR column = value3 — но выглядит проще и компактнее."
   ]
  },
  {
   "attachments": {},
   "cell_type": "markdown",
   "metadata": {},
   "source": [
    "До этого при работе с WHERE мы использовали только числа, но мы можем проводить манипуляции и c данными типа текст.\n",
    "\n",
    "    Обратите внимание! Текстовые значения обязательно должны заключаться в одинарные кавычки."
   ]
  },
  {
   "attachments": {},
   "cell_type": "markdown",
   "metadata": {},
   "source": [
    "Давайте получим информацию о всех фильмах Леонида Гайдая.\n",
    "\n"
   ]
  },
  {
   "attachments": {},
   "cell_type": "markdown",
   "metadata": {},
   "source": [
    "SELECT * /*выбор всех полей*/\n",
    "\n",
    "FROM sql.kinopoisk /*из таблицы sql.kinopoisk*/\n",
    "\n",
    "WHERE director = 'Леонид Гайдай' /*где режиссёр Леонид Гайдай*/"
   ]
  },
  {
   "attachments": {},
   "cell_type": "markdown",
   "metadata": {},
   "source": [
    "Попробуйте изменить условие на director = 'ЛЕОНИД ГАЙДАЙ'.\n",
    "\n",
    "    Как видите, ничего не отобразилось, потому что в текстовых полях важен регистр."
   ]
  },
  {
   "attachments": {},
   "cell_type": "markdown",
   "metadata": {},
   "source": [
    "## LIKE"
   ]
  },
  {
   "attachments": {},
   "cell_type": "markdown",
   "metadata": {},
   "source": [
    "Предположим, мы не знаем точно, какое текстовое значение ищем.\n",
    "\n",
    "В таком случае нам поможет оператор LIKE."
   ]
  },
  {
   "attachments": {},
   "cell_type": "markdown",
   "metadata": {},
   "source": [
    "Например, чтобы получить все фильмы, название которых начинается на А (кириллическую), мы воспользуемся таким запросом:"
   ]
  },
  {
   "attachments": {},
   "cell_type": "markdown",
   "metadata": {},
   "source": [
    "SELECT * /*выбор всех полей*/\n",
    "\n",
    "FROM sql.kinopoisk /*из таблицы sql.kinopoisk*/\n",
    "\n",
    "WHERE movie_title LIKE 'А%' /*если название фильма начинается на А*/"
   ]
  },
  {
   "attachments": {},
   "cell_type": "markdown",
   "metadata": {},
   "source": [
    "Знак процента (%) в примере показывает, что после A встречается ноль и более символов. Вы можете использовать % в любом месте внутри строки."
   ]
  },
  {
   "attachments": {},
   "cell_type": "markdown",
   "metadata": {},
   "source": [
    "Например, movie_title LIKE '%а%б%' выведет все фильмы, в названии которых встречается строчная буква а, а где-то после неё — б."
   ]
  },
  {
   "attachments": {},
   "cell_type": "markdown",
   "metadata": {},
   "source": [
    "Также в текстовых строках используется знак подчёркивания (_) — он заменяет ровно один любой символ."
   ]
  },
  {
   "attachments": {},
   "cell_type": "markdown",
   "metadata": {},
   "source": [
    "## NULL"
   ]
  },
  {
   "attachments": {},
   "cell_type": "markdown",
   "metadata": {},
   "source": [
    "Вернёмся к просмотру всей таблицы с ТОП-250.\n",
    "\n",
    "Вы можете заметить, что у некоторых строк заполнены не все столбцы."
   ]
  },
  {
   "attachments": {},
   "cell_type": "markdown",
   "metadata": {},
   "source": [
    "Для пустых значений есть специальное обозначение — NULL."
   ]
  },
  {
   "attachments": {},
   "cell_type": "markdown",
   "metadata": {},
   "source": [
    "При этом вы не можете просто приравнять значение к NULL. Проверим это на следующем запросе:"
   ]
  },
  {
   "attachments": {},
   "cell_type": "markdown",
   "metadata": {},
   "source": [
    "SELECT * /*выбор всех полей*/\n",
    "\n",
    "FROM sql.kinopoisk /*из таблицы sql.kinopoisk*/\n",
    "\n",
    "WHERE overview = NULL /*если у фильма отсутствует описание*/"
   ]
  },
  {
   "attachments": {},
   "cell_type": "markdown",
   "metadata": {},
   "source": [
    "Как вы заметили, вывод пустой, хотя мы точно видели фильмы с отсутствующим описанием.\n",
    "\n",
    "А теперь попробуйте изменить условие на overview IS NULL.\n",
    "\n",
    "Если вы всё сделали верно, то получили все фильмы, у которых в таблице отсутствует описание.\n",
    "\n",
    "Вы можете добавить к условию уже изученное ключевое слово NOT, чтобы получилось overview IS NOT NULL, тогда в выводе вы увидите только фильмы с заполненным описанием."
   ]
  },
  {
   "attachments": {},
   "cell_type": "markdown",
   "metadata": {},
   "source": [
    "Важно! NULL — это специальное значение. Если вы фильтруете столбец, в котором есть пустые значения, по любому условию, кроме IS NULL / IS NOT NULL, такие значения будут исключены из вывода."
   ]
  },
  {
   "attachments": {},
   "cell_type": "markdown",
   "metadata": {},
   "source": [
    "# 3_Сортировка"
   ]
  },
  {
   "attachments": {},
   "cell_type": "markdown",
   "metadata": {},
   "source": [
    "## ORDER BY"
   ]
  },
  {
   "attachments": {},
   "cell_type": "markdown",
   "metadata": {},
   "source": [
    "Когда мы говорили о последовательности столбцов в выводе, вы, вероятно, задались вопросом: «А в каком порядке выводятся строки?»\n",
    "\n",
    "Порядок вывода строк может задаваться в настройках базы данных для каждой таблицы. Более того, этот порядок может быть не задан, и тогда от вывода к выводу он будет разным.\n",
    "\n",
    "Чтобы задать порядок вывода строк в запросе, применим новое ключевое слово ORDER BY."
   ]
  },
  {
   "attachments": {},
   "cell_type": "markdown",
   "metadata": {},
   "source": [
    "Для примера отсортируем фильмы по их названию в алфавитном порядке."
   ]
  },
  {
   "attachments": {},
   "cell_type": "markdown",
   "metadata": {},
   "source": [
    "SELECT *\n",
    "\n",
    "FROM sql.kinopoisk\n",
    "\n",
    "ORDER BY movie_title"
   ]
  },
  {
   "attachments": {},
   "cell_type": "markdown",
   "metadata": {},
   "source": [
    "Как видите, сортировка по возрастанию проводится по умолчанию.\n",
    "\n",
    "Наш запрос с сортировкой по названию аналогичен такому:"
   ]
  },
  {
   "attachments": {},
   "cell_type": "markdown",
   "metadata": {},
   "source": [
    "SELECT *\n",
    "\n",
    "FROM sql.kinopoisk\n",
    "\n",
    "ORDER BY rating ASC"
   ]
  },
  {
   "attachments": {},
   "cell_type": "markdown",
   "metadata": {},
   "source": [
    "Здесь ASC — явное указание порядка сортировки по возрастанию (англ. ascending).\n",
    "\n",
    "Для обратного порядка используется ключевое слово DESC (англ. descending).\n",
    "\n",
    "Разумеется, мы можем комбинировать в нашем запросе фильтрацию строк и сортировку вывода, а также выводить только необходимые столбцы."
   ]
  },
  {
   "attachments": {},
   "cell_type": "markdown",
   "metadata": {},
   "source": [
    "Выведем названия, имена режиссёров и сценаристов, а также год выхода в прокат фильмов, выпущенных в СССР, и отсортируем результат по убыванию рейтинга."
   ]
  },
  {
   "attachments": {},
   "cell_type": "markdown",
   "metadata": {},
   "source": [
    "SELECT /*выбор*/\n",
    "\n",
    "movie_title, /*столбец movie_title*/\n",
    "director, /*столбец director*/\n",
    "\n",
    "screenwriter, /*столбец screenwriter*/\n",
    "\n",
    "year /*столбец year*/\n",
    "\n",
    "FROM sql.kinopoisk /*из таблицы sql.kinopoisk*/\n",
    "\n",
    "WHERE country = 'СССР' /*при условии, что страна производства — СССР*/\n",
    "\n",
    "ORDER BY rating DESC /*сортировка по рейтингу в порядке убывания*/"
   ]
  },
  {
   "attachments": {},
   "cell_type": "markdown",
   "metadata": {},
   "source": [
    "    Обратите внимание! Ключевое слово ORDER BY идёт после применения всех условий в WHERE."
   ]
  },
  {
   "attachments": {},
   "cell_type": "markdown",
   "metadata": {},
   "source": [
    "Также в ORDER BY можно указывать, где должны идти пустые значения — в начале или в конце.\n",
    "\n",
    "Такая настройка порядка вывода задаётся с помощью ключевых слов NULLS FIRST / NULLS LAST."
   ]
  },
  {
   "attachments": {},
   "cell_type": "markdown",
   "metadata": {},
   "source": [
    "SELECT  /*выбор*/\n",
    "\n",
    "movie_title,  /*столбец movie_table*/\n",
    "\n",
    "rating,  /*столбец rating*/\n",
    "\n",
    "overview,  /*столбец overview*/\n",
    "\n",
    "year /*столбец year*/\n",
    "\n",
    "FROM sql.kinopoisk  /*из таблицы sql.kinopoisk*/\n",
    "\n",
    "ORDER BY overview /*сортировка по столбцу overview*/"
   ]
  },
  {
   "attachments": {},
   "cell_type": "markdown",
   "metadata": {},
   "source": [
    "    А теперь измените последнюю строку скрипта на ORDER BY overview NULLS FIRST.\n",
    "\n",
    "Такой запрос выведет первыми строки с пустым описанием."
   ]
  },
  {
   "attachments": {},
   "cell_type": "markdown",
   "metadata": {},
   "source": [
    "    Вы можете сортировать вывод по нескольким столбцам, просто указав их через запятую в ORDER BY (порядок сортировки указывается отдельно для каждого столбца)."
   ]
  },
  {
   "attachments": {},
   "cell_type": "markdown",
   "metadata": {},
   "source": [
    "Кроме того, вы можете сортировать результат запроса и по тем столбцам, которых нет в выводе."
   ]
  },
  {
   "attachments": {},
   "cell_type": "markdown",
   "metadata": {},
   "source": [
    "Получили список всех режиссёров и фильмов из ТОП-250, отсортированных по году выхода в прокат, а внутри года — по рейтингу в порядке убывания."
   ]
  },
  {
   "attachments": {},
   "cell_type": "markdown",
   "metadata": {},
   "source": [
    "SELECT /*выбор*/\n",
    "\n",
    "director, /*столбец director*/\n",
    "\n",
    "movie_title /*столбец movie_title*/\n",
    "\n",
    "FROM sql.kinopoisk /*из таблицы sql.kinopoisk*/\n",
    "\n",
    "ORDER BY year, rating DESC /*сортировка по столбцам year и rating в порядке убывания*/"
   ]
  },
  {
   "attachments": {},
   "cell_type": "markdown",
   "metadata": {},
   "source": [
    "Для упрощения работы с ORDER BY можно использовать не названия столбцов, а их номера из вывода."
   ]
  },
  {
   "attachments": {},
   "cell_type": "markdown",
   "metadata": {},
   "source": [
    "SELECT /*выбор*/\n",
    "\n",
    "director, /*столбец director*/\n",
    "\n",
    "movie_title, /*столбец movie_title*/\n",
    "\n",
    "year /*столбец year*/\n",
    "\n",
    "FROM sql.kinopoisk /*из таблицы sql.kinopoisk*/\n",
    "\n",
    "ORDER BY 1, 3 DESC /*сортировка по первому и третьему столбцам*/"
   ]
  },
  {
   "attachments": {},
   "cell_type": "markdown",
   "metadata": {},
   "source": [
    "    Сортировку по номеру столбца стоит использовать с осторожностью, поскольку при изменении вывода в SELECT всё может сбиться.\n",
    "\n",
    "При добавлении новых столбцов в SELECT нужно проверить и при необходимости поправить номера столбцов в ORDER BY."
   ]
  },
  {
   "attachments": {},
   "cell_type": "markdown",
   "metadata": {},
   "source": [
    "# 4_Ограничение вывода"
   ]
  },
  {
   "attachments": {},
   "cell_type": "markdown",
   "metadata": {},
   "source": [
    "## LIMIT"
   ]
  },
  {
   "attachments": {},
   "cell_type": "markdown",
   "metadata": {},
   "source": [
    "По умолчанию при любом запросе вы получаете в выводе все строки, попадающие под условия запроса.\n",
    "\n",
    "Чаще всего именно этого вы и ожидаете, но иногда, например, вам нужно просто взглянуть на содержание таблицы, при этом чем она она больше, тем дольше будет работать запрос.\n"
   ]
  },
  {
   "attachments": {},
   "cell_type": "markdown",
   "metadata": {},
   "source": [
    "Ограничим вывод первыми десятью строками и сможем легко понять, какие данные хранятся в таблице, не утяжеляя результат."
   ]
  },
  {
   "attachments": {},
   "cell_type": "markdown",
   "metadata": {},
   "source": [
    "SELECT * /*выбор всех полей*/\n",
    "\n",
    "FROM sql.kinopoisk /*из таблицы sql.kinopoisk*/\n",
    "\n",
    "LIMIT 10 /*ограничить вывод десятью значениями*/"
   ]
  },
  {
   "attachments": {},
   "cell_type": "markdown",
   "metadata": {},
   "source": [
    "Ещё один типичный случай использования ограничения вывода — вывод ТОПа по какому-то показателю."
   ]
  },
  {
   "attachments": {},
   "cell_type": "markdown",
   "metadata": {},
   "source": [
    "Выведем ТОП-5 фильмов по рейтингу, сначала отсортировав их по убыванию, а потом оставив только верхние пять строк с помощью LIMIT."
   ]
  },
  {
   "attachments": {},
   "cell_type": "markdown",
   "metadata": {},
   "source": [
    "SELECT /*выбор*/\n",
    "\n",
    "movie_title, /*столбец movie_title*/\n",
    "\n",
    "rating /*столбец rating*/\n",
    "\n",
    "FROM sql.kinopoisk /*из таблицы sql.kinopoisk*/\n",
    "\n",
    "ORDER BY rating DESC /*сортировка по столбцу rating в порядке убывания*/\n",
    "\n",
    "LIMIT 5 /*ограничить пятью значениями*/"
   ]
  },
  {
   "attachments": {},
   "cell_type": "markdown",
   "metadata": {},
   "source": [
    "## OFFSET"
   ]
  },
  {
   "attachments": {},
   "cell_type": "markdown",
   "metadata": {},
   "source": [
    "Если LIMIT «оставляет» указанное число первых строк из вывода, то OFFSET, наоборот, «обрезает» указанное число первых строк."
   ]
  },
  {
   "attachments": {},
   "cell_type": "markdown",
   "metadata": {},
   "source": [
    "Выведем название и рейтинг фильмов с четвёртого по восьмое место."
   ]
  },
  {
   "attachments": {},
   "cell_type": "markdown",
   "metadata": {},
   "source": [
    "SELECT /*выбор*/\n",
    "\n",
    "movie_title, /*столбец movie_title*/\n",
    "\n",
    "rating /*столбец rating*/\n",
    "\n",
    "FROM sql.kinopoisk /*из таблицы sql.kinopoisk*/\n",
    "\n",
    "ORDER BY rating DESC /*сортировка по столбцу rating в порядке убывания*/\n",
    "\n",
    "OFFSET 3 LIMIT 5 /*исключить первые три строки и вывести пять следующих за ними*/"
   ]
  },
  {
   "attachments": {},
   "cell_type": "markdown",
   "metadata": {},
   "source": [
    "# 5_Итоги"
   ]
  },
  {
   "attachments": {},
   "cell_type": "markdown",
   "metadata": {},
   "source": [
    "✍ В этом модуле вы отлично потрудились:\n",
    "\n",
    "* познакомились с первыми операторами и ключевыми словами;\n",
    "* научились выводить только необходимые столбцы, а также задавать базовые условия для фильтрации строк;\n",
    "* произвели первые арифметические операции с данными;\n",
    "* научились сортировать и ограничивать полученные данные."
   ]
  },
  {
   "attachments": {},
   "cell_type": "markdown",
   "metadata": {},
   "source": [
    "Этого достаточно, чтобы делать простые запросы к БД.\n",
    "\n",
    "    Напоследок напомним структуру простого запроса:"
   ]
  },
  {
   "attachments": {},
   "cell_type": "markdown",
   "metadata": {},
   "source": [
    "SELECT\n",
    "\n",
    "столбец1 AS новое_название,\n",
    "\n",
    "столбец2,\n",
    "\n",
    "столбец3\n",
    "\n",
    "FROM таблица\n",
    "\n",
    "WHERE (условие1 OR условие2)\n",
    "\n",
    "AND условие3\n",
    "\n",
    "ORDER BY сортировка1, сортировка2\n",
    "\n",
    "OFFSET 1 LIMIT 2"
   ]
  }
 ],
 "metadata": {
  "kernelspec": {
   "display_name": "Python 3",
   "language": "python",
   "name": "python3"
  },
  "language_info": {
   "name": "python",
   "version": "3.9.10"
  },
  "orig_nbformat": 4,
  "vscode": {
   "interpreter": {
    "hash": "25ef66b64f87b83de5678661cf05678b8b270938559328a8b229cefd9dd529c6"
   }
  }
 },
 "nbformat": 4,
 "nbformat_minor": 2
}
