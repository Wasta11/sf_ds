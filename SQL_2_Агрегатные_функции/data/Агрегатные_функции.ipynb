{
 "cells": [
  {
   "attachments": {},
   "cell_type": "markdown",
   "metadata": {},
   "source": [
    "# 1_Знакомимся с данными"
   ]
  },
  {
   "attachments": {},
   "cell_type": "markdown",
   "metadata": {},
   "source": [
    "    Агрегатные функции помогают вычислять сводные значения для группы строк."
   ]
  },
  {
   "attachments": {},
   "cell_type": "markdown",
   "metadata": {},
   "source": [
    "# 2_Убираем повторяющиеся значения"
   ]
  },
  {
   "attachments": {},
   "cell_type": "markdown",
   "metadata": {},
   "source": [
    "Для начала получим все основные типы покемонов."
   ]
  },
  {
   "attachments": {},
   "cell_type": "markdown",
   "metadata": {},
   "source": [
    "SELECT /*выбор*/\n",
    "\n",
    "type1 /*столбец type1*/\n",
    "    \n",
    "FROM sql.pokemon /*из таблицы sql.pokemon*/"
   ]
  },
  {
   "attachments": {},
   "cell_type": "markdown",
   "metadata": {},
   "source": [
    "Видно, что типы повторяются, потому что в результате запроса вы получаете все строки, которые подходят под заданные условия.\n",
    "\n",
    "Чтобы получить уникальные значения из столбца, воспользуемся ключевым словом DISTINCT.\n",
    "\n"
   ]
  },
  {
   "attachments": {},
   "cell_type": "markdown",
   "metadata": {},
   "source": [
    "SELECT DISTINCT /*выбрать уникальные значения*/\n",
    "\n",
    "type1 /*столбец type1*/\n",
    "\n",
    "FROM sql.pokemon /*из таблицы sql.pokemon*/"
   ]
  },
  {
   "attachments": {},
   "cell_type": "markdown",
   "metadata": {},
   "source": [
    "    Мы можем применять DISTINCT и для нескольких столбцов."
   ]
  },
  {
   "attachments": {},
   "cell_type": "markdown",
   "metadata": {},
   "source": [
    "Получим, например, все уникальные пары основного и дополнительного типов для покемонов."
   ]
  },
  {
   "attachments": {},
   "cell_type": "markdown",
   "metadata": {},
   "source": [
    "SELECT DISTINCT /*выбрать уникальные значения*/\n",
    "\n",
    "type1, /*столбец type1*/\n",
    "\n",
    "type2 /*столбец type2*/\n",
    "\n",
    "FROM sql.pokemon /*из таблицы sql.pokemon*/"
   ]
  },
  {
   "attachments": {},
   "cell_type": "markdown",
   "metadata": {},
   "source": [
    "    Обратите внимание! DISTINCT пишется только один раз, в начале списка получаемых столбцов."
   ]
  },
  {
   "attachments": {},
   "cell_type": "markdown",
   "metadata": {},
   "source": [
    "# 3_Агрегатные функции"
   ]
  },
  {
   "attachments": {},
   "cell_type": "markdown",
   "metadata": {},
   "source": [
    "✍ Кроме простых математических операций, которые мы использовали в предыдущем модуле, СУБД позволяет проводить статистические вычисления для нескольких строк."
   ]
  },
  {
   "attachments": {},
   "cell_type": "markdown",
   "metadata": {},
   "source": [
    "Давайте посчитаем количество строк в таблице. Для этого применим агрегатную функцию COUNT."
   ]
  },
  {
   "attachments": {},
   "cell_type": "markdown",
   "metadata": {},
   "source": [
    "SELECT\n",
    "\n",
    "COUNT(*)\n",
    "\n",
    "FROM sql.pokemon"
   ]
  },
  {
   "attachments": {},
   "cell_type": "markdown",
   "metadata": {},
   "source": [
    "COUNT считает строки, а звёздочка (*) в аргументе функции означает, что считаются все строки, которые возвращает запрос."
   ]
  },
  {
   "attachments": {},
   "cell_type": "markdown",
   "metadata": {},
   "source": [
    "    Если в аргументе функции указать название столбца, функция обработает только строки с непустым значением."
   ]
  },
  {
   "attachments": {},
   "cell_type": "markdown",
   "metadata": {},
   "source": [
    "Внутри функции COUNT мы можем также применять DISTINCT, чтобы вычислить количество уникальных значений."
   ]
  },
  {
   "attachments": {},
   "cell_type": "markdown",
   "metadata": {},
   "source": [
    "SELECT /*выбор*/\n",
    "\n",
    "COUNT(DISTINCT type1) /*функция подсчёта строк; уникальные значения столбца type1*/\n",
    "\n",
    "FROM sql.pokemon /*из таблицы sql.pokemon*/"
   ]
  },
  {
   "attachments": {},
   "cell_type": "markdown",
   "metadata": {},
   "source": [
    "## ОСНОВНЫЕ АГРЕГАТНЫЕ ФУНКЦИИ"
   ]
  },
  {
   "attachments": {},
   "cell_type": "markdown",
   "metadata": {},
   "source": [
    "Назовём основные агрегатные функции, с которыми нам предстоит работать:\n",
    "\n",
    "* COUNT — вычисляет число непустых строк;\n",
    "* SUM — вычисляет сумму;\n",
    "* AVG — вычисляет среднее;\n",
    "* MAX — вычисляет максимум;\n",
    "* MIN — вычисляет минимум."
   ]
  },
  {
   "attachments": {},
   "cell_type": "markdown",
   "metadata": {},
   "source": [
    "    Разумеется, вы можете использовать в запросе фильтрацию строк с помощью WHERE, чтобы получить агрегированное значение только для отдельных строк."
   ]
  },
  {
   "attachments": {},
   "cell_type": "markdown",
   "metadata": {},
   "source": [
    "Кроме того, мы можем применять несколько агрегатных функций в одном запросе."
   ]
  },
  {
   "attachments": {},
   "cell_type": "markdown",
   "metadata": {},
   "source": [
    "SELECT /*выбор*/\n",
    "\n",
    "COUNT(*) AS \"всего травяных покемонов\", /*подсчёт всех строк; назначить алиас \"всего травяных покемонов\"*/\n",
    "\n",
    "COUNT(type2) AS \"покемонов с дополнительным типом\", /*подсчёт непустых строк в столбце type2; назначить алиас \"покемонов с дополнительным типом\"*/\n",
    "\n",
    "AVG(attack) AS \"средняя атака\", /*среднее значение столбца attack; назначить алиас \"средняя атака\"*/\n",
    "\n",
    "AVG(defense) AS \"средняя защита\" /*среднее значение столбца defense; назначить алиас \"средняя защита\"*/\n",
    "\n",
    "FROM sql.pokemon /*из таблицы sql.pokemon*/\n",
    "\n",
    "WHERE type1 = 'Grass'/*при условии, что значение столбца type1 содержит grass*/"
   ]
  },
  {
   "attachments": {},
   "cell_type": "markdown",
   "metadata": {},
   "source": [
    "# 4_Группировка"
   ]
  },
  {
   "attachments": {},
   "cell_type": "markdown",
   "metadata": {},
   "source": [
    " Как мы помним, агрегатные функции вычисляют какой-то параметр для набора строк."
   ]
  },
  {
   "attachments": {},
   "cell_type": "markdown",
   "metadata": {},
   "source": [
    "Прежде мы применяли агрегатные функции для всего вывода, а сейчас используем для различных групп строк. Поможет нам в этом ключевое слово GROUP BY."
   ]
  },
  {
   "attachments": {},
   "cell_type": "markdown",
   "metadata": {},
   "source": [
    "GROUP BY используется для определения групп выходных строк, к которым могут применяться агрегатные функции."
   ]
  },
  {
   "attachments": {},
   "cell_type": "markdown",
   "metadata": {},
   "source": [
    "Выведем число покемонов каждого типа."
   ]
  },
  {
   "attachments": {},
   "cell_type": "markdown",
   "metadata": {},
   "source": [
    "SELECT /*выбор*/\n",
    "\n",
    "type1 AS pokemon_type, /*столбец type1; присвоить алиас pokemon_type*/\n",
    "\n",
    "COUNT(*) AS pokemon_count /*подсчёт всех строк; присвоить алиас pokemon_count*/\n",
    "\n",
    "FROM sql.pokemon /*из таблицы sql.pokemon*/\n",
    "\n",
    "GROUP BY type1 /*группировка по столбцу type1*/\n",
    "\n",
    "ORDER BY type1 /*сортировка по столбцу type1*/"
   ]
  },
  {
   "attachments": {},
   "cell_type": "markdown",
   "metadata": {},
   "source": [
    "Вывод, конечно же, можно сортировать по столбцу с агрегированием."
   ]
  },
  {
   "attachments": {},
   "cell_type": "markdown",
   "metadata": {},
   "source": [
    "Представим ТОП существующих типов покемонов."
   ]
  },
  {
   "attachments": {},
   "cell_type": "markdown",
   "metadata": {},
   "source": [
    "SELECT /*выбор*/\n",
    "\n",
    "type1 AS pokemon_type, /*столбец type1; присвоить алиас pokemon_type*/\n",
    "\n",
    "COUNT(*) AS pokemon_count /*подсчёт всех строк; присвоить алиас pokemon_count*/\n",
    "\n",
    "FROM sql.pokemon /*из таблицы sql.pokemon*/\n",
    "\n",
    "GROUP BY pokemon_type /*группировка по столбцу pokemon_type*/\n",
    "\n",
    "ORDER BY COUNT(*) DESC /*сортировка в порядке убывания*/"
   ]
  },
  {
   "attachments": {},
   "cell_type": "markdown",
   "metadata": {},
   "source": [
    "    Обратите внимание! Мы использовали в группировке не название столбца, а его алиас."
   ]
  },
  {
   "attachments": {},
   "cell_type": "markdown",
   "metadata": {},
   "source": [
    "Мы можем осуществлять группировку по нескольким столбцам."
   ]
  },
  {
   "attachments": {},
   "cell_type": "markdown",
   "metadata": {},
   "source": [
    "SELECT /*выбор*/\n",
    "\n",
    "type1 AS primary_type, /*столбец type1; присвоить алиас primary_type*/\n",
    "\n",
    "type2 AS additional_type, /*столбец type2; присвоить алиас additional_type*/\n",
    "\n",
    "COUNT(*) AS pokemon_count /*подсчёт всех строк присвоить алиас pokemon_count*/\n",
    "\n",
    "FROM sql.pokemon /*из таблицы sql.pokemon*/\n",
    "\n",
    "GROUP BY 1, 2 /*группировка по столбцам 1 и 2*/\n",
    "\n",
    "ORDER BY 1, 2 NULLS FIRST /*сортировка по столбцам 1 и 2; сначала нули*/"
   ]
  },
  {
   "attachments": {},
   "cell_type": "markdown",
   "metadata": {},
   "source": [
    "    Обратите внимание! В группировке можно указывать порядковый номер столбца так же, как мы делали это в прошлом модуле для сортировки."
   ]
  },
  {
   "attachments": {},
   "cell_type": "markdown",
   "metadata": {},
   "source": [
    "GROUP BY можно использовать и без агрегатных функций. Тогда его действие будет равносильно действию DISTINCT.\n",
    "\n",
    "Сравните выводы двух запросов:"
   ]
  },
  {
   "attachments": {},
   "cell_type": "markdown",
   "metadata": {},
   "source": [
    "SELECT DISTINCT \n",
    "\n",
    "type1\n",
    "\n",
    "FROM sql.pokemon"
   ]
  },
  {
   "attachments": {},
   "cell_type": "markdown",
   "metadata": {},
   "source": [
    "Эквивалентно"
   ]
  },
  {
   "attachments": {},
   "cell_type": "markdown",
   "metadata": {},
   "source": [
    "SELECT\n",
    "\n",
    "type1\n",
    "\n",
    "FROM sql.pokemon\n",
    "\n",
    "GROUP BY type1"
   ]
  },
  {
   "attachments": {},
   "cell_type": "markdown",
   "metadata": {},
   "source": [
    "# 5_Фильтрация агрегированных строк"
   ]
  },
  {
   "attachments": {},
   "cell_type": "markdown",
   "metadata": {},
   "source": [
    "✍ Если ключевое слово WHERE определяет фильтрацию строк до агрегирования, то для фильтрации уже агрегированных данных применяется ключевое слово HAVING."
   ]
  },
  {
   "attachments": {},
   "cell_type": "markdown",
   "metadata": {},
   "source": [
    "    Важно! HAVING обязательно пишется после GROUP BY."
   ]
  },
  {
   "attachments": {},
   "cell_type": "markdown",
   "metadata": {},
   "source": [
    "Выведем типы покемонов и их средний показатель атаки, при этом оставим только тех, у кого средняя атака больше 90."
   ]
  },
  {
   "attachments": {},
   "cell_type": "markdown",
   "metadata": {},
   "source": [
    "SELECT /*выбор*/\n",
    "\n",
    "type1 AS primary_type, /*таблица type1; присвоить алиас primary_type*/\n",
    "\n",
    "AVG(attack) AS avg_attack /*расчёт среднего по столбцу attack; присвоить алиас avg_attack*/\n",
    "\n",
    "FROM sql.pokemon /*из таблицы sql.pokemon*/\n",
    "\n",
    "GROUP BY primary_type /*группировать по столбцу primary_type*/\n",
    "\n",
    "HAVING AVG(attack) > 90 /*фильтровать по среднему значению attack, превышающему 90*/"
   ]
  },
  {
   "attachments": {},
   "cell_type": "markdown",
   "metadata": {},
   "source": [
    "Попробуйте удалить из запроса вывод второго столбца (со средним показателем атаки).\n",
    "\n",
    "?\n",
    "Что получилось?\n",
    "\n",
    "Запрос работает и выводит только названия типов, у которых средний показатель атаки выше 90."
   ]
  },
  {
   "attachments": {},
   "cell_type": "markdown",
   "metadata": {},
   "source": [
    "    В HAVING вы можете использовать все те же условия, что и в WHERE."
   ]
  },
  {
   "attachments": {},
   "cell_type": "markdown",
   "metadata": {},
   "source": [
    "В общем виде синтаксис оператора SELECT, с учётом имеющихся на данный момент знаний, представляем следующим образом:\n",
    "\n",
    "SELECT [ALL | DISTINCT] список_столбцов|*\n",
    "\n",
    "FROM список_имён_таблиц\n",
    "\n",
    "[WHERE условие_поиска]\n",
    "\n",
    "[GROUP BY список_имён_столбцов]\n",
    "\n",
    "[HAVING условие_поиска]\n",
    "\n",
    "[ORDER BY имя_столбца [ASC | DESC],…]\n",
    "\n",
    "    Обратите внимание! В квадратных скобках указаны необязательные предложения: они могут отсутствовать в операторе SELECT.\n"
   ]
  },
  {
   "attachments": {},
   "cell_type": "markdown",
   "metadata": {},
   "source": [
    "#  6_Итоги"
   ]
  },
  {
   "attachments": {},
   "cell_type": "markdown",
   "metadata": {},
   "source": [
    "✍ Итак, каковы наши успехи в этом модуле?\n",
    "\n",
    "Вы познакомились с агрегатными функциями и научились:\n",
    "\n",
    "* считать количество строк, сумму, минимум, максимум, среднее по значениям таблицы;\n",
    "* выводить агрегированные значения в разных разрезах;\n",
    "* фильтровать по агрегированным значениям."
   ]
  },
  {
   "attachments": {},
   "cell_type": "markdown",
   "metadata": {},
   "source": [
    "И в довершение итогов напомним структуру запроса, который мы можем составить с учётом новых знаний:"
   ]
  },
  {
   "attachments": {},
   "cell_type": "markdown",
   "metadata": {},
   "source": [
    "SELECT\n",
    "\n",
    "столбец1 AS новое_название,\n",
    "\n",
    "столбец2,\n",
    "\n",
    "АГРЕГАТ(столбец3)\n",
    "\n",
    "FROM таблица\n",
    "\n",
    "WHERE (условие1 OR условие2)\n",
    "\n",
    "AND условие3\n",
    "\n",
    "GROUP BY столбец1, столбец2\n",
    "\n",
    "HAVING АГРЕГАТ(столбец3) > 5\n",
    "\n",
    "ORDER BY сортировка1, сортировка2\n",
    "\n",
    "OFFSET 1 LIMIT 2"
   ]
  }
 ],
 "metadata": {
  "kernelspec": {
   "display_name": "Python 3",
   "language": "python",
   "name": "python3"
  },
  "language_info": {
   "name": "python",
   "version": "3.9.10"
  },
  "orig_nbformat": 4
 },
 "nbformat": 4,
 "nbformat_minor": 2
}
