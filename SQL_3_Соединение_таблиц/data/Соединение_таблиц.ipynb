{
 "cells": [
  {
   "attachments": {},
   "cell_type": "markdown",
   "metadata": {},
   "source": [
    "# 1_Знакомимся с данными"
   ]
  },
  {
   "attachments": {},
   "cell_type": "markdown",
   "metadata": {},
   "source": [
    "→ Первым делом — знакомимся с датасетом.\n",
    "\n",
    "В этом модуле мы будем работать с таблицами о футбольных матчах и командах.\n",
    "\n",
    "Таблицы этого модуля, как и все другие в курсе, лежат в схеме sql в Metabase. Нам понадобятся таблицы teams и matches."
   ]
  },
  {
   "attachments": {},
   "cell_type": "markdown",
   "metadata": {},
   "source": [
    "Таблица teams с данными о командах\n",
    "* id\tid команды\n",
    "* api_id\tключ на таблицу matches\n",
    "* long_name\tполное название команды\n",
    "* short_name\tсокращённое название команды"
   ]
  },
  {
   "attachments": {},
   "cell_type": "markdown",
   "metadata": {},
   "source": [
    "Таблица matches с данными о матчах\n",
    "* id\tid матча\n",
    "* season\tсезон\n",
    "* date\tдата матча\n",
    "* home_team_api_id\tapi_id домашней команды, ключ на таблицу teams\n",
    "* away_team_api_id\tapi_id гостевой команды, ключ на таблицу teams\n",
    "* home_team_goals\tколичество голов домашней команды\n",
    "* away_team_goals\tколичество голов гостевой команды"
   ]
  },
  {
   "attachments": {},
   "cell_type": "markdown",
   "metadata": {},
   "source": [
    "# 2_Соединение таблиц по ключу"
   ]
  },
  {
   "attachments": {},
   "cell_type": "markdown",
   "metadata": {},
   "source": [
    "## ОБЪЕДИНЯЕМ ТАБЛИЦЫ БЕЗ ОПЕРАТОРОВ"
   ]
  },
  {
   "attachments": {},
   "cell_type": "markdown",
   "metadata": {},
   "source": [
    "Чтобы соединить две таблицы между собой, достаточно записать названия таблиц через запятую в разделе from. Что произойдёт в таком случае?"
   ]
  },
  {
   "attachments": {},
   "cell_type": "markdown",
   "metadata": {},
   "source": [
    "SELECT * /*выбор всех полей*/\n",
    "\n",
    "FROM\n",
    "\n",
    "sql.teams, /*таблица с командами*/\n",
    "\n",
    "sql.matches /*таблица с матчами*/"
   ]
  },
  {
   "attachments": {},
   "cell_type": "markdown",
   "metadata": {},
   "source": [
    "Каждая запись, которая есть в таблице teams, будет соединена с каждой записью в таблице matches.\n",
    "\n",
    "    Это действие также называют декартовым произведением таблиц."
   ]
  },
  {
   "attachments": {},
   "cell_type": "markdown",
   "metadata": {},
   "source": [
    "Действительно ли это произведение?\n",
    "\n",
    "Легко проверить! В исходных таблицах teams и matches было 299 и 25083 записей соответственно. Если соединить каждую запись одной таблицы с каждой записью другой, получится 299 * 25083 записей в итоговой таблице."
   ]
  },
  {
   "attachments": {},
   "cell_type": "markdown",
   "metadata": {},
   "source": [
    "В данном случае соединение таблиц не даёт практической пользы: мы получили очень много записей, которые никак не можем интерпретировать, потому что команды не соответствуют матчам.\n",
    "\n",
    "Давайте исправим это. В таблице teams есть столбец api_id, а таблица matches содержит столбцы home_team_api_id и away_team_api_id — это ключи таблиц, по которым они соединяются.\n",
    "\n",
    "    Ключ — это поле (столбец) в таблице, которое позволяет однозначно идентифицировать запись (строку).\n",
    "\n",
    "Чтобы соединить таблицы и получить данные о домашней команде по каждому матчу, добавим условие\n",
    "where home_team_api_id = api_id."
   ]
  },
  {
   "attachments": {},
   "cell_type": "markdown",
   "metadata": {},
   "source": [
    "SELECT * /*выбор всех полей в таблице*/\n",
    "\n",
    "FROM\n",
    "\n",
    "sql.teams, /*таблица с командами*/\n",
    "\n",
    "sql.matches /*таблица с матчами*/\n",
    "\n",
    "WHERE home_team_api_id = api_id /*условие: home_team_api_id таблицы matches равен api_id таблицы teams*/"
   ]
  },
  {
   "attachments": {},
   "cell_type": "markdown",
   "metadata": {},
   "source": [
    "Аналогично можем получить данные о гостевых командах: необходимо изменить условие на\n",
    "where away_team_api_id = api_id."
   ]
  },
  {
   "attachments": {},
   "cell_type": "markdown",
   "metadata": {},
   "source": [
    "SELECT * /*выбор всех полей в таблицы*/\n",
    "\n",
    "FROM\n",
    "\n",
    "sql.teams, /*таблица с командами*/\n",
    "\n",
    "sql.matches /*таблица с матчами*/\n",
    "\n",
    "WHERE away_team_api_id = api_id /*условие: away_team_api_id таблицы matches равен api_id таблицы teams*/"
   ]
  },
  {
   "attachments": {},
   "cell_type": "markdown",
   "metadata": {},
   "source": [
    "Итак, мы только что объединили таблицы по ключу.\n",
    "\n"
   ]
  },
  {
   "attachments": {},
   "cell_type": "markdown",
   "metadata": {},
   "source": [
    "Вы уже знакомы с ключами по таблице pokemon (там в этой роли выступал столбец id). Ключи нужны для того, чтобы иметь возможность не перепутать между собой различные записи.\n",
    "\n",
    "→ Например, у нас есть несколько команд с одинаковым названием: Polonia Bytom, Widzew Łódź и Royal Excel Mouscron — хотя это разные команды, с разными id.\n",
    "Кроме того, как мы уже смогли убедиться, ключи используются для соединения таблиц между собой.\n",
    "\n",
    "Ключи бывают двух основных типов:\n",
    "\n",
    "     * Primary — первичный ключ — служит для идентификации текущей таблицы и, как правило, идёт первым в списке столбцов. Всегда уникален: повторяющихся значений в основной таблице быть не может.\n",
    "     * Foreign — внешний ключ — представляет собой ссылку на другую таблицу.\n",
    "Как правило, названия ключей имеют «хвост», который позволяет их идентифицировать: например, _id, _rk, _cd, _pk (от primary_key), _fk (от foreign_key) и другие."
   ]
  },
  {
   "attachments": {},
   "cell_type": "markdown",
   "metadata": {},
   "source": [
    "    Обратите внимание! В данном датасете ключ api_id таблицы teams может быть использован в разных значениях. Его можно использовать для того, чтобы получить информацию о домашней (home) или гостевой (away) команде."
   ]
  },
  {
   "attachments": {},
   "cell_type": "markdown",
   "metadata": {},
   "source": [
    "Вы могли заметить, что в последних двух запросах получилось очень много столбцов. Как и при работе с одиночной таблицей, мы можем выбирать, какие столбцы соединённой таблицы выводить.\n",
    "\n",
    "С помощью известного нам запроса получим названия команд, игравших домашние матчи, и счёт матчей."
   ]
  },
  {
   "attachments": {},
   "cell_type": "markdown",
   "metadata": {},
   "source": [
    "SELECT \n",
    "    \n",
    "long_name, /*столбец long_name таблицы teams*/\n",
    "    \n",
    "home_team_goals, /*столбец home_team_goals таблицы matches*/\n",
    "    \n",
    "away_team_goals /*столбец away_team_goals таблицы matches*/\n",
    "\n",
    "FROM\n",
    "\n",
    "sql.teams, /*таблица с командами*/\n",
    "\n",
    "sql.matches /*таблица с матчами*/\n",
    "\n",
    "WHERE home_team_api_id = api_id /*условие: home_team_api_id таблицы matches равен api_id таблицы teams*/"
   ]
  },
  {
   "attachments": {},
   "cell_type": "markdown",
   "metadata": {},
   "source": [
    "# 3_Знакомимся с JOIN"
   ]
  },
  {
   "attachments": {},
   "cell_type": "markdown",
   "metadata": {},
   "source": [
    "✍ В прошлом юните для соединения таблиц мы использовали условие в разделе where, чтобы показать принцип работы оператора JOIN."
   ]
  },
  {
   "attachments": {},
   "cell_type": "markdown",
   "metadata": {},
   "source": [
    "     JOIN — это оператор SQL, который позволяет соединять таблицы по условию."
   ]
  },
  {
   "attachments": {},
   "cell_type": "markdown",
   "metadata": {},
   "source": [
    "В качестве примера используем запрос из предыдущего юнита."
   ]
  },
  {
   "attachments": {},
   "cell_type": "markdown",
   "metadata": {},
   "source": [
    "SELECT \n",
    "\n",
    "long_name,  /*столбец long_name таблицы teams*/\n",
    "\n",
    "home_team_goals, /*столбец home_team_goals таблицы matches*/\n",
    "\n",
    "away_team_goals /*столбец away_team_goals таблицы matches*/\n",
    "\n",
    "FROM\n",
    "\n",
    "sql.teams, /*таблица с командами*/\n",
    "    \n",
    "sql.matches /*таблица с матчами*/\n",
    "\n",
    "WHERE home_team_api_id = api_id /*условие: home_team_api_id таблицы matches равен api_id таблицы teams*/"
   ]
  },
  {
   "attachments": {},
   "cell_type": "markdown",
   "metadata": {},
   "source": [
    "и запишем его с использованием JOIN."
   ]
  },
  {
   "attachments": {},
   "cell_type": "markdown",
   "metadata": {},
   "source": [
    "SELECT \n",
    "\n",
    "long_name, /*столбец long_name таблицы teams*/\n",
    "\n",
    "home_team_goals, /*столбец home_team_goals таблицы matches*/\n",
    "\n",
    "away_team_goals /*столбец away_team_goals таблицы matches*/\n",
    "\n",
    "FROM    \n",
    "\n",
    "sql.teams /*таблица с командами*/\n",
    "\n",
    "JOIN sql.matches on home_team_api_id = api_id /*оператор соединения таблиц; таблица matches; условие: home_team_api_id таблицы matches равен api_id таблицы teams*/"
   ]
  },
  {
   "attachments": {},
   "cell_type": "markdown",
   "metadata": {},
   "source": [
    "## СИНТАКСИС"
   ]
  },
  {
   "attachments": {},
   "cell_type": "markdown",
   "metadata": {},
   "source": [
    "Оператор JOIN упрощает процесс соединения таблиц.\n",
    "\n",
    "Его синтаксис можно представить следующим образом:"
   ]
  },
  {
   "attachments": {},
   "cell_type": "markdown",
   "metadata": {},
   "source": [
    "SELECT\n",
    "\n",
    "столбец1,\n",
    "\n",
    "столбец2,\n",
    "\n",
    "...\n",
    "\n",
    "FROM\n",
    "\n",
    "таблица1\n",
    "\n",
    "JOIN таблица2 ON условие"
   ]
  },
  {
   "attachments": {},
   "cell_type": "markdown",
   "metadata": {},
   "source": [
    "Порядок присоединения таблиц в данном случае не важен — результат будет одинаковым.\n",
    "\n",
    "С помощью JOIN можно соединить и более двух таблиц.\n",
    "\n"
   ]
  },
  {
   "attachments": {},
   "cell_type": "markdown",
   "metadata": {},
   "source": [
    "SELECT\n",
    "\n",
    "столбец1,\n",
    "\n",
    "столбец2,\n",
    "\n",
    "...\n",
    "\n",
    "FROM\n",
    "\n",
    "таблица1\n",
    "\n",
    "JOIN таблица2 ON условие\n",
    "\n",
    "JOIN таблица3 ON условие"
   ]
  },
  {
   "attachments": {},
   "cell_type": "markdown",
   "metadata": {},
   "source": [
    "В таблицах, которые мы соединяем, могут быть одинаковые названия столбцов.\n",
    "\n",
    "→ К примеру, столбец id есть и в таблице matches, и в таблице teams. Такой запрос не будет обработан."
   ]
  },
  {
   "attachments": {},
   "cell_type": "markdown",
   "metadata": {},
   "source": [
    "SELECT\n",
    "\n",
    "id /*столбец id, но не указано какой таблицы*/\n",
    "\n",
    "FROM \n",
    "\n",
    "sql.teams /*таблица teams*/\n",
    "\n",
    "JOIN sql.matches ON home_team_api_id = api_id /*оператор соединения таблиц; таблица matches; условие: home_team_api_id таблицы matches равен api_id таблицы teams*/"
   ]
  },
  {
   "attachments": {},
   "cell_type": "markdown",
   "metadata": {},
   "source": [
    "В результате должно появиться сообщение об ошибке вроде такого: \"... column id is ambiguous ...\".\n",
    "\n",
    "?\n",
    "Что же делать в таком случае?\n",
    "\n",
    "Можно указать, откуда мы хотим запросить данные, записав название таблицы перед столбцом через точку."
   ]
  },
  {
   "attachments": {},
   "cell_type": "markdown",
   "metadata": {},
   "source": [
    "SELECT\n",
    "\n",
    "teams.id /*столбец id таблицы teams*/\n",
    "\n",
    "FROM \n",
    "\n",
    "sql.teams /*таблица teams*/\n",
    "\n",
    "JOIN sql.matches ON home_team_api_id = api_id /*оператор соединения таблиц; таблица matches; условие: home_team_api_id таблицы matches равен api_id таблицы teams*/"
   ]
  },
  {
   "attachments": {},
   "cell_type": "markdown",
   "metadata": {},
   "source": [
    "Можно также выбрать и столбец из таблицы matches.\n",
    "\n"
   ]
  },
  {
   "attachments": {},
   "cell_type": "markdown",
   "metadata": {},
   "source": [
    "SELECT\n",
    "\n",
    "matches.id /*столбец id таблицы matches*/\n",
    "\n",
    "FROM \n",
    "\n",
    "sql.teams /*таблица teams*/\n",
    "\n",
    "JOIN sql.matches ON home_team_api_id = api_id /*оператор соединения таблиц; таблица matches; условие: home_team_api_id таблицы matches равен api_id таблицы teams*/"
   ]
  },
  {
   "attachments": {},
   "cell_type": "markdown",
   "metadata": {},
   "source": [
    "Зачастую названия таблиц слишком длинные, так что использовать их неудобно.\n",
    "\n",
    "    Упростить обращение к различным таблицам можно, присвоив им сокращённые названия — алиасы (от англ. alias).\n",
    "\n",
    "Синтаксис для указания алиаса такой же, как и для названия столбца."
   ]
  },
  {
   "attachments": {},
   "cell_type": "markdown",
   "metadata": {},
   "source": [
    "SELECT\n",
    "\n",
    "столбец1,\n",
    "\n",
    "столбец2,\n",
    "...\n",
    "\n",
    "FROM\n",
    "\n",
    "таблица1 AS короткое_название_1\n",
    "\n",
    "JOIN таблица2 AS короткое_название_2 ON условие"
   ]
  },
  {
   "attachments": {},
   "cell_type": "markdown",
   "metadata": {},
   "source": [
    "Название записывается без пробелов и операторов.\n",
    "\n",
    "Если необходимо записать название, в котором используются пробелы (\"table 1\"), то алиас можно обернуть в кавычки."
   ]
  },
  {
   "attachments": {},
   "cell_type": "markdown",
   "metadata": {},
   "source": [
    "    Важно! Обращаться по такому алиасу придётся также с помощью кавычек."
   ]
  },
  {
   "attachments": {},
   "cell_type": "markdown",
   "metadata": {},
   "source": [
    "    Использование таких алиасов считается плохой практикой как минимум по причине того, что обращаться с такими алиасами неудобно.\n",
    "\n",
    "        Вместо алиасов с кавычками рекомендуется давать простое короткое название на латинице, без специальных символов и пробелов. Если таблиц немного и все названия начинаются с разных букв, можно присваивать алиасы по первой букве.\n",
    "\n",
    "            Ключевое слово as, как и в названии столбца, можно опустить в большинстве СУБД."
   ]
  },
  {
   "attachments": {},
   "cell_type": "markdown",
   "metadata": {},
   "source": [
    "SELECT\n",
    "\n",
    "столбец1 новое_название_столбца,\n",
    "\n",
    "столбец2 новое_название_столбца,\n",
    "\n",
    "...\n",
    "\n",
    "FROM\n",
    "\n",
    "таблица1 короткое_название_1\n",
    "\n",
    "JOIN таблица2 короткое_название_2 ON условие"
   ]
  },
  {
   "attachments": {},
   "cell_type": "markdown",
   "metadata": {},
   "source": [
    "Кажется, теперь мы можем соединить таблицы между собой и создать своё табло со счётом матчей, как на спортивных сайтах!"
   ]
  },
  {
   "attachments": {},
   "cell_type": "markdown",
   "metadata": {},
   "source": [
    "Давайте с помощью запроса SQL получим таблицу, содержащую:\n",
    "\n",
    "* название домашней команды;\n",
    "* количество забитых домашней командой голов;\n",
    "* количество забитых гостевой командой голов;\n",
    "* название гостевой команды."
   ]
  },
  {
   "attachments": {},
   "cell_type": "markdown",
   "metadata": {},
   "source": [
    "SELECT\n",
    "\n",
    "h.long_name \"домашняя команда\", /*столбец long_name таблицы h*/\n",
    "\n",
    "m.home_team_goals \"голы домашней команды\", /*столбец home_team_goals таблицы m*/\n",
    "\n",
    "m.away_team_goals \"голы гостевой команды\", /*столбец away_team_goals таблицы m*/\n",
    "\n",
    "a.long_name \"гостевая команда\" /*столбец long_name таблицы a*/\n",
    "\n",
    "FROM\n",
    "\n",
    "sql.matches m /*таблица matches с алиасом m*/\n",
    "\n",
    "JOIN sql.teams h ON m.home_team_api_id = h.api_id /*оператор соединения таблиц; таблица teams с алиасом h; условие: home_team_api_id таблицы m равен api_id таблицы h*/\n",
    "\n",
    "JOIN sql.teams a ON m.away_team_api_id = a.api_id /*оператор соединения таблиц; таблица teams с алиасом a; условие: away_team_api_id таблицы m равен api_id таблицы a*/"
   ]
  },
  {
   "attachments": {},
   "cell_type": "markdown",
   "metadata": {},
   "source": [
    "# 4_Фильтрация и агрегатные функции"
   ]
  },
  {
   "attachments": {},
   "cell_type": "markdown",
   "metadata": {},
   "source": [
    "## РАБОТА С ОБЪЕДИНЁННЫМИ ТАБЛИЦАМИ"
   ]
  },
  {
   "attachments": {},
   "cell_type": "markdown",
   "metadata": {},
   "source": [
    "Принцип построения запроса и порядок операторов такой же, как и с обычной таблицей.\n",
    "\n",
    "Вспомним его:\n",
    "\n"
   ]
  },
  {
   "attachments": {},
   "cell_type": "markdown",
   "metadata": {},
   "source": [
    "        SELECT... \n",
    "        FROM... \n",
    "        WHERE... \n",
    "        GROUP BY... \n",
    "        ORDER BY... \n",
    "        LIMIT..."
   ]
  },
  {
   "attachments": {},
   "cell_type": "markdown",
   "metadata": {},
   "source": [
    "ФИЛЬТРАЦИЯ ДАННЫХ\n",
    "\n",
    "К соединённым таблицам применимы функции фильтрации данных.\n",
    "\n",
    "Например, можно вывести id матчей, в которых команда Arsenal была гостевой."
   ]
  },
  {
   "attachments": {},
   "cell_type": "markdown",
   "metadata": {},
   "source": [
    "SELECT \n",
    "m.id /*столбец id таблицы m*/\n",
    "\n",
    "FROM\n",
    "sql.teams t /*таблица teams с алиасом t*/\n",
    "\n",
    "JOIN sql.matches m ON m.away_team_api_id = t.api_id /*оператор соединения таблиц; таблица matches с алиасом m; условие: away_team_api_id таблицы m равен api_id таблицы t*/\n",
    "\n",
    "WHERE long_name = 'Arsenal' /*long_name таблицы teams имеет значение Arsenal*/"
   ]
  },
  {
   "attachments": {},
   "cell_type": "markdown",
   "metadata": {},
   "source": [
    "    Принципиальное отличие фильтрации данных по соединённым таблицам от аналогичного действия по одиночным таблицам заключается в том, что, фильтруя записи одной таблицы, мы также будем фильтровать и записи другой таблицы, поскольку соединённые на уровне запроса таблицы по сути являются единой таблицей."
   ]
  },
  {
   "attachments": {},
   "cell_type": "markdown",
   "metadata": {},
   "source": [
    "Например, результат запроса"
   ]
  },
  {
   "attachments": {},
   "cell_type": "markdown",
   "metadata": {},
   "source": [
    "SELECT \n",
    "\n",
    "m.id id_1,\n",
    "\n",
    "m.season,\n",
    "\n",
    "t.id id_2,\n",
    "\n",
    "t.long_name\n",
    "\n",
    "FROM\n",
    "\n",
    "sql.teams t\n",
    "\n",
    "JOIN sql.matches m ON m.away_team_api_id = t.api_id"
   ]
  },
  {
   "attachments": {},
   "cell_type": "markdown",
   "metadata": {},
   "source": [
    "можно разделить на две разные части"
   ]
  },
  {
   "cell_type": "code",
   "execution_count": 1,
   "metadata": {},
   "outputs": [
    {
     "data": {
      "text/html": [
       "<img src=\"https://lms.skillfactory.ru/assets/courseware/v1/7281095f07ca452dfb5963c7ea912fe7/asset-v1:SkillFactory+DSPR-2.0+14JULY2021+type@asset+block/dst3-u2-md3_4_1.png\"/>"
      ],
      "text/plain": [
       "<IPython.core.display.Image object>"
      ]
     },
     "execution_count": 1,
     "metadata": {},
     "output_type": "execute_result"
    }
   ],
   "source": [
    "# import image module\n",
    "from IPython.display import Image\n",
    "\n",
    "# get the image\n",
    "Image(url=\"https://lms.skillfactory.ru/assets/courseware/v1/7281095f07ca452dfb5963c7ea912fe7/asset-v1:SkillFactory+DSPR-2.0+14JULY2021+type@asset+block/dst3-u2-md3_4_1.png\")"
   ]
  },
  {
   "attachments": {},
   "cell_type": "markdown",
   "metadata": {},
   "source": [
    "Одна часть — таблица matches с алиасом m, вторая — teams с алиасом t, но после соединения они являются одной таблицей."
   ]
  },
  {
   "attachments": {},
   "cell_type": "markdown",
   "metadata": {},
   "source": [
    "    Таким образом, если вы отфильтруете данные по одной части таблицы, то другая, соединённая, часть пропадёт вместе с ней."
   ]
  },
  {
   "attachments": {},
   "cell_type": "markdown",
   "metadata": {},
   "source": [
    "Также мы можем отфильтровать записи сразу по двум таблицам."
   ]
  },
  {
   "attachments": {},
   "cell_type": "markdown",
   "metadata": {},
   "source": [
    "Например, можно оставить только записи, в которых короткое название домашней команды GEN и матчи сезона 2008/2009."
   ]
  },
  {
   "attachments": {},
   "cell_type": "markdown",
   "metadata": {},
   "source": [
    "SELECT * /*выбор всех полей*/\n",
    "\n",
    "FROM    \n",
    "\n",
    "sql.matches m /*таблица matches с алиасом m*/\n",
    "\n",
    "JOIN sql.teams t on t.api_id = m.home_team_api_id /*оператор соединения таблиц; таблица teams с алиасом t; условие: home_team_api_id таблицы m равен api_id таблицы t*/\n",
    "\n",
    "WHERE\n",
    "t.short_name = 'GEN' /*столбец short_name таблицы t имеет значение GEN*/\n",
    "AND m.season = '2008/2009' /*столбец season таблицы m имеет значение 2008/2009*/"
   ]
  },
  {
   "attachments": {},
   "cell_type": "markdown",
   "metadata": {},
   "source": [
    "АГРЕГАЦИЯ ДАННЫХ\n",
    "\n",
    "К соединённым таблицам также применимы любые агрегатные функции — самые важные функции для анализа данных."
   ]
  },
  {
   "attachments": {},
   "cell_type": "markdown",
   "metadata": {},
   "source": [
    "Например, мы можем вывести сумму голов по командам для матчей, где команда выступала в гостях."
   ]
  },
  {
   "attachments": {},
   "cell_type": "markdown",
   "metadata": {},
   "source": [
    "SELECT\n",
    "\n",
    "t.long_name, /*столбец long_name таблицы t*/\n",
    "\n",
    "SUM(m.home_team_goals) + SUM(m.away_team_goals) match_goals /*функция суммирования; столбец home_team_goals таблицы m; функция суммирования; столбец away_team_goals таблицы m; новое название столбца*/\n",
    "\n",
    "FROM\n",
    "sql.matches m /*таблица matches с алиасом m*/\n",
    "\n",
    "JOIN sql.teams t ON m.away_team_api_id = t.api_id /*оператор соединения таблиц; таблица teams с алиасом t; условие: away_team_api_id таблицы m равен api_id таблицы t*/\n",
    "\n",
    "GROUP BY t.id /*группировка по столбцу id таблицы t*/"
   ]
  },
  {
   "attachments": {},
   "cell_type": "markdown",
   "metadata": {},
   "source": [
    "    Обратите внимание! В данном запросе была использована группировка по столбцу id таблицы teams, хотя этот столбец не выводится в запросе. Это необходимо для того, чтобы команды с одинаковым названием, если такие найдутся, не группировались между собой. Группировка по названию команды в данном запросе будет неверной, так как есть несколько команд с одинаковым полным названием — мы говорили об этом в начале модуля."
   ]
  },
  {
   "attachments": {},
   "cell_type": "markdown",
   "metadata": {},
   "source": [
    "акже, применяя агрегатные функции к соединённым таблицам, обращайте внимание на указание алиасов (или таблиц) при группировке и указании столбцов агрегатных функций. В нашей соединённой таблице есть два столбца с названием id, и если бы мы сформировали запрос без указания таблицы, как указано ниже, то..."
   ]
  },
  {
   "attachments": {},
   "cell_type": "markdown",
   "metadata": {},
   "source": [
    "SELECT\n",
    "t.long_name, /*столбец long_name таблицы t*/\n",
    "SUM(m.home_team_goals) + SUM(m.away_team_goals) match_goals /*функция суммирования; столбец home_team_goals таблицы m; функция суммирования; столбец away_team_goals таблицы m; новое название столбца*/\n",
    "\n",
    "FROM\n",
    "\n",
    "sql.matches m /*таблица matches с алиасом m*/\n",
    "\n",
    "JOIN sql.teams t ON m.away_team_api_id = t.api_id /*оператор соединения таблиц; таблица teams с алиасом t; условие: away_team_api_id таблицы m равен api_id таблицы t*/\n",
    "\n",
    "GROUP BY id /*группировка по столбцу id, но не указано, какой таблицы*/"
   ]
  },
  {
   "attachments": {},
   "cell_type": "markdown",
   "metadata": {},
   "source": [
    "система выдала бы уже знакомую нам ошибку: \"... column \"id\" is ambiguous ...\"."
   ]
  },
  {
   "attachments": {},
   "cell_type": "markdown",
   "metadata": {},
   "source": [
    "Мы можем использовать оператор HAVING для фильтрации сгруппированных данных.\n",
    "\n",
    "Поставим задачу — вывести таблицу с суммарным количеством забитых голов в матчах по командам и сезонам для команд, в которых суммарное количество голов в матчах сезона больше 100."
   ]
  },
  {
   "attachments": {},
   "cell_type": "markdown",
   "metadata": {},
   "source": [
    "Для начала посчитаем общее количество голов в матчах по сезонам."
   ]
  },
  {
   "attachments": {},
   "cell_type": "markdown",
   "metadata": {},
   "source": [
    "SELECT\n",
    "\n",
    "m.season, /*столбец season таблицы m*/\n",
    "\n",
    "SUM(m.home_team_goals) + SUM(m.away_team_goals) total_goals /*функция суммирования; столбец home_team_goals таблицы m; функция суммирования; столбец away_team_goals таблицы m; новое название столбца*/\n",
    "\n",
    "FROM sql.matches m /*таблица matches с алиасом m*/\n",
    "\n",
    "GROUP BY m.season /*группировка по столбцу season таблицы m*/"
   ]
  },
  {
   "attachments": {},
   "cell_type": "markdown",
   "metadata": {},
   "source": [
    "Затем добавим таблицу с командами, группировку по командам и условие фильтрации."
   ]
  },
  {
   "attachments": {},
   "cell_type": "markdown",
   "metadata": {},
   "source": [
    "SELECT\n",
    "\n",
    "m.season, /*столбец season таблицы m*/\n",
    "\n",
    "t.long_name, /*столбец long_name таблицы t*/\n",
    "\n",
    "SUM(m.home_team_goals) + SUM(m.away_team_goals) total_goals /*функция суммирования; столбец home_team_goals таблицы m; функция суммирования; столбец away_team_goals таблицы m; новое название столбца*/\n",
    "\n",
    "FROM sql.matches m /*таблица matches с алиасом m*/\n",
    "\n",
    "JOIN sql.teams t ON t.api_id = m.home_team_api_id OR t.api_id = m.away_team_api_id /*оператор соединения таблиц; таблица teams с алиасом t; условие: home_team_api_id таблицы m равен api_id таблицы t или away_team_api_id таблицы m равен api_id таблицы t*/\n",
    "\n",
    "GROUP BY m.season, t.id /*группировка по столбцам season таблицы m и id таблицы t*/\n",
    "\n",
    "HAVING SUM(m.home_team_goals) + SUM(m.away_team_goals) > 100 /*оператор фильтрации сгруппированных данных; функция суммирования; home_team_goals таблицы m; функция суммирования; away_team_goals таблицы m; больше 100*/"
   ]
  },
  {
   "attachments": {},
   "cell_type": "markdown",
   "metadata": {},
   "source": [
    "# 5_Способы соединения таблиц"
   ]
  },
  {
   "attachments": {},
   "cell_type": "markdown",
   "metadata": {},
   "source": [
    "## ОПЕРАТОРЫ"
   ]
  },
  {
   "attachments": {},
   "cell_type": "markdown",
   "metadata": {},
   "source": [
    "✍ В прошлых юнитах для соединения таблиц мы использовали один оператор — JOIN. В действительности же он не один: существует несколько различных видов соединений (join’ов) — давайте посмотрим, какие ↓"
   ]
  },
  {
   "attachments": {},
   "cell_type": "markdown",
   "metadata": {},
   "source": [
    "INNER JOIN\n",
    "\n",
    "INNER JOIN — это тот же JOIN (слово inner в операторе можно опустить)."
   ]
  },
  {
   "attachments": {},
   "cell_type": "markdown",
   "metadata": {},
   "source": [
    "Принцип работы этого оператора визуализирует изображение ниже."
   ]
  },
  {
   "cell_type": "code",
   "execution_count": 2,
   "metadata": {},
   "outputs": [
    {
     "data": {
      "text/html": [
       "<img src=\"https://lms.skillfactory.ru/assets/courseware/v1/4d5d75b4a4f5a5ca654aac79889ffe4c/asset-v1:SkillFactory+DSPR-2.0+14JULY2021+type@asset+block/dst3-u2-md3_5_1.gif\"/>"
      ],
      "text/plain": [
       "<IPython.core.display.Image object>"
      ]
     },
     "execution_count": 2,
     "metadata": {},
     "output_type": "execute_result"
    }
   ],
   "source": [
    "# import image module\n",
    "from IPython.display import Image\n",
    "\n",
    "# get the image\n",
    "Image(url=\"https://lms.skillfactory.ru/assets/courseware/v1/4d5d75b4a4f5a5ca654aac79889ffe4c/asset-v1:SkillFactory+DSPR-2.0+14JULY2021+type@asset+block/dst3-u2-md3_5_1.gif\")"
   ]
  },
  {
   "attachments": {},
   "cell_type": "markdown",
   "metadata": {},
   "source": [
    "    Для INNER JOIN работает следующее правило: присоединяются только те строки таблиц, которые удовлетворяют условию соединения. Если в любой из соединяемых таблиц находятся такие строки, которые не удовлетворяют заявленному условию, — они отбрасываются."
   ]
  },
  {
   "attachments": {},
   "cell_type": "markdown",
   "metadata": {},
   "source": [
    "Рассмотрим на примере нашего датасета. \n",
    "\n",
    "В таблице teams есть данные о 299 различных командах — можем проверить это с помощью запроса."
   ]
  },
  {
   "attachments": {},
   "cell_type": "markdown",
   "metadata": {},
   "source": [
    "\n",
    "SELECT \n",
    "\n",
    "COUNT(DISTINCT id) /*оператор подсчёта строк; оператор исключения повторяющихся строк; столбец id*/\n",
    "\n",
    "FROM sql.teams /*таблица teams*/"
   ]
  },
  {
   "attachments": {},
   "cell_type": "markdown",
   "metadata": {},
   "source": [
    "или\n"
   ]
  },
  {
   "attachments": {},
   "cell_type": "markdown",
   "metadata": {},
   "source": [
    "SELECT \n",
    "\n",
    "COUNT(DISTINCT api_id) /*оператор подсчёта строк; оператор исключения повторяющихся строк; столбец api_id*/\n",
    "\n",
    "FROM sql.teams"
   ]
  },
  {
   "attachments": {},
   "cell_type": "markdown",
   "metadata": {},
   "source": [
    "Теперь добавим к teams таблицу с матчами."
   ]
  },
  {
   "attachments": {},
   "cell_type": "markdown",
   "metadata": {},
   "source": [
    "SELECT \n",
    "\n",
    "COUNT(DISTINCT t.id) /*оператор подсчёта строк; оператор исключения повторяющихся строк; столбец id*/\n",
    "\n",
    "FROM \n",
    "\n",
    "sql.teams t /*таблица teams с алиасом t*/\n",
    "\n",
    "JOIN sql.matches m ON t.api_id = m.home_team_api_id OR t.api_id = m.away_team_api_id /*оператор соединения inner JOIN; таблица teams с алиасом t; условие: home_team_api_id таблицы m равен api_id таблицы t или away_team_api_id таблицы m равен api_id таблицы t*/"
   ]
  },
  {
   "attachments": {},
   "cell_type": "markdown",
   "metadata": {},
   "source": [
    "И в таблице останется уже не 299 команд, а только 292."
   ]
  },
  {
   "attachments": {},
   "cell_type": "markdown",
   "metadata": {},
   "source": [
    "Почему?\n",
    "\n",
    "Дело в том, что таблица sql.matches по какой-то причине не содержит информацию о командах Lierse SK, KVC Westerlo, KAS Eupen, Club Brugge KV, KV Oostende, RSC Anderlecht и Hull City, зато они есть в таблице sql.teams. Возможно, эти команды не участвовали ни в одном матче или записи по этим матчам были удалены."
   ]
  },
  {
   "attachments": {},
   "cell_type": "markdown",
   "metadata": {},
   "source": [
    "## LEFT OUTER JOIN И RIGHT OUTER JOIN"
   ]
  },
  {
   "attachments": {},
   "cell_type": "markdown",
   "metadata": {},
   "source": [
    "Также существуют схожие друг с другом типы соединения — LEFT JOIN и RIGHT JOIN (слово outer в операторе можно опустить)."
   ]
  },
  {
   "attachments": {},
   "cell_type": "markdown",
   "metadata": {},
   "source": [
    "Принцип работы оператора можно описать так:"
   ]
  },
  {
   "cell_type": "code",
   "execution_count": 3,
   "metadata": {},
   "outputs": [
    {
     "data": {
      "text/html": [
       "<img src=\"https://lms.skillfactory.ru/assets/courseware/v1/d81b9a709fc7a2e677adc190862521a0/asset-v1:SkillFactory+DSPR-2.0+14JULY2021+type@asset+block/dst3-u2-md3_5_2.gif\"/>"
      ],
      "text/plain": [
       "<IPython.core.display.Image object>"
      ]
     },
     "execution_count": 3,
     "metadata": {},
     "output_type": "execute_result"
    }
   ],
   "source": [
    "# import image module\n",
    "from IPython.display import Image\n",
    "\n",
    "# get the image\n",
    "Image(url=\"https://lms.skillfactory.ru/assets/courseware/v1/d81b9a709fc7a2e677adc190862521a0/asset-v1:SkillFactory+DSPR-2.0+14JULY2021+type@asset+block/dst3-u2-md3_5_2.gif\")"
   ]
  },
  {
   "attachments": {},
   "cell_type": "markdown",
   "metadata": {},
   "source": [
    "    Для LEFT JOIN работает следующее правило: из левой (относительно оператора) таблицы сохраняются все строки, а из правой добавляются только те, которые соответствуют условию соединения. Если в правой таблице не находится соответствия, то значения строк второй таблицы будут иметь значение NULL."
   ]
  },
  {
   "attachments": {},
   "cell_type": "markdown",
   "metadata": {},
   "source": [
    "LEFT JOIN может быть полезен, когда соответствующих записей во второй таблице может не быть, но важно сохранить записи из первой таблицы.\n",
    "\n",
    "?\n",
    "Почему соответствий может не быть?\n",
    "\n",
    "Причины могут быть разные, назовём две основные:\n",
    "\n",
    "1\n",
    "Различная бизнес-логика таблиц.\n",
    "\n",
    "Пример: в интернет-магазине почти всегда можно оформить заказ с промокодом. Вполне вероятно, что информация о промокодах хранится в отдельной таблице, но при этом не для каждого заказа будет существовать промокод, поскольку покупку можно оформить и без него.\n",
    "\n",
    "2\n",
    "Разное время обновления таблиц.\n",
    "\n",
    "Пример: клиент зарегистрировался на сайте интернет-магазина и оформил заказ. Данные о регистрации клиентов могут обновляться в базе данных раз в неделю, а о заказах — раз в сутки.\n",
    "\n",
    "→ Поставим следующую задачу: вывести полные названия команд, данных по которым нет в таблице matches."
   ]
  },
  {
   "attachments": {},
   "cell_type": "markdown",
   "metadata": {},
   "source": [
    "SELECT\n",
    "\n",
    "t.long_name, /*столбец long_name таблицы t*/\n",
    "\n",
    "m.id /*столбец id таблицы m*/\n",
    "\n",
    "FROM sql.teams t /*таблица teams с алиасом t*/\n",
    "\n",
    "LEFT JOIN sql.matches m ON t.api_id = m.home_team_api_id OR t.api_id = m.away_team_api_id /*оператор соединения left JOIN; таблица matches с алиасом m; условие: home_team_api_id таблицы m равен api_id таблицы t или away_team_api_id таблицы m равен api_id таблицы t*/\n",
    "\n",
    "ORDER BY m.id DESC /*сортировка по id таблицы m по убыванию, чтобы увидеть строки со значением null*/"
   ]
  },
  {
   "attachments": {},
   "cell_type": "markdown",
   "metadata": {},
   "source": [
    "Вывод: в таблице teams сохранились все записи, а в таблице matches есть пустые строки."
   ]
  },
  {
   "attachments": {},
   "cell_type": "markdown",
   "metadata": {},
   "source": [
    "Теперь, чтобы выбрать такие команды, которые не принимали участия в матчах, достаточно добавить условие where m.id is null (или любое другое поле таблицы matches)."
   ]
  },
  {
   "attachments": {},
   "cell_type": "markdown",
   "metadata": {},
   "source": [
    "SELECT\n",
    "\n",
    "t.long_name /*столбец long_name таблицы t*/\n",
    "\n",
    "FROM \n",
    "    \n",
    "sql.teams t /*таблица teams с алиасом t*/\n",
    "\n",
    "LEFT JOIN sql.matches m ON t.api_id = m.home_team_api_id OR t.api_id = m.away_team_api_id /*оператор соединения left JOIN; таблица matches с алиасом m; условие: home_team_api_id таблицы m равен api_id таблицы t или away_team_api_id таблицы m равен api_id таблицы t*/\n",
    "\n",
    "WHERE m.id IS NULL /*условие: столбец id таблицы m имеет значение null*/"
   ]
  },
  {
   "attachments": {},
   "cell_type": "markdown",
   "metadata": {},
   "source": [
    "    Обратите внимание! Если мы добавим какой-либо фильтр по значению для таблицы matches, то LEFT JOIN превратится в INNER JOIN, поскольку для второй таблицы станет необходимым присутствие значения в строке."
   ]
  },
  {
   "attachments": {},
   "cell_type": "markdown",
   "metadata": {},
   "source": [
    "SELECT\n",
    "\n",
    "t.long_name /*столбец long_name таблицы t*/\n",
    "\n",
    "FROM sql.teams t /*таблица teams с алиасом t*/\n",
    "\n",
    "LEFT JOIN sql.matches m ON t.api_id = m.home_team_api_id OR t.api_id = m.away_team_api_id /*оператор соединения left JOIN; таблица matches с алиасом m; условие: home_team_api_id таблицы m равен api_id таблицы t или away_team_api_id таблицы m равен api_id таблицы t*/\n",
    "\n",
    "WHERE\n",
    "\n",
    "m.season = '2008/2009'  /*условие: столбец season таблицы m имеет значение 2008/2009*/\n",
    "\n",
    "AND t.long_name = 'KAS Eupen' /*условие: столбец long_name таблицы t имеет значение KAS Eupen*/"
   ]
  },
  {
   "attachments": {},
   "cell_type": "markdown",
   "metadata": {},
   "source": [
    "В ответе Metabase получим No results!, так как вместе с фильтром m.season = '2008/2009' исчезли все строки, значения которых NULL."
   ]
  },
  {
   "attachments": {},
   "cell_type": "markdown",
   "metadata": {},
   "source": [
    "С LEFT JOIN также работают агрегатные функции, что позволяет не потерять значения из левой таблицы. Например, мы можем вывести сумму голов команд по гостевым матчам."
   ]
  },
  {
   "attachments": {},
   "cell_type": "markdown",
   "metadata": {},
   "source": [
    "SELECT\n",
    "\n",
    "t.long_name,\n",
    "\n",
    "SUM(m.away_team_goals) total_goals\n",
    "\n",
    "FROM \n",
    "sql.teams t /*таблица teams с алиасом t*/\n",
    "\n",
    "LEFT JOIN sql.matches m ON t.api_id = m.away_team_api_id /*оператор соединения LEFT JOIN; таблица matches с алиасом m; условие: away_team_api_id таблицы m равен api_id таблицы t*/\n",
    "\n",
    "GROUP BY t.id /*группировка по столбцу id таблицы t*/\n",
    "\n",
    "ORDER BY 2 DESC /*сортировка по столбцу total_goals по убыванию, чтобы увидеть строки со значением null*/"
   ]
  },
  {
   "attachments": {},
   "cell_type": "markdown",
   "metadata": {},
   "source": [
    "    Обратите внимание! При применении функций SUM, MIN, MAX, AVG к полям со значением NULL в результате получится NULL, а не 0. А при использовании функции COUNT, наоборот, получится 0."
   ]
  },
  {
   "attachments": {},
   "cell_type": "markdown",
   "metadata": {},
   "source": [
    "    При использовании RIGHT JOIN сохраняется та же логика, что и для LEFT JOIN, только за основу берётся правая таблица.\n",
    "\n",
    "    Чтобы из LEFT JOIN получить RIGHT JOIN, нужно просто поменять порядок соединения таблиц.\n",
    "\n",
    "    Вообще, применение RIGHT JOIN считается плохим тоном, так как язык SQL читается и пишется слева направо, а такой оператор усложняет чтение запросов."
   ]
  },
  {
   "attachments": {},
   "cell_type": "markdown",
   "metadata": {},
   "source": [
    "## FULL OUTER JOIN"
   ]
  },
  {
   "attachments": {},
   "cell_type": "markdown",
   "metadata": {},
   "source": [
    "    Оператор FULL OUTER JOIN объединяет в себе LEFT и RIGHT JOIN и позволяет сохранить кортежи обеих таблиц. Даже если не будет соответствий, мы сохраним все записи из обеих таблиц."
   ]
  },
  {
   "attachments": {},
   "cell_type": "markdown",
   "metadata": {},
   "source": [
    "FULL OUTER JOIN может быть полезен в ситуациях, когда схема данных недостаточно нормализована и не хватает таблиц-справочников.\n",
    "\n",
    "Пример: в базе данных интернет-магазина есть две таблицы — с зарегистрированными пользователями и пользователями, оформившими заказ. При этом оформить заказ можно без регистрации, а зарегистрироваться — без оформления заказа.\n",
    "\n",
    "Предположим, что вам необходимо получить полный список пользователей — и оформивших заказ, и зарегистрированных, — но в базе данных этой объединённой таблицы нет. В данном случае можно использовать FULL OUTER JOIN для получения полного списка, соединив таким образом таблицы c заказами и регистрациями по id пользователя."
   ]
  },
  {
   "cell_type": "code",
   "execution_count": 4,
   "metadata": {},
   "outputs": [
    {
     "data": {
      "text/html": [
       "<img src=\"https://lms.skillfactory.ru/assets/courseware/v1/6ca460197802a26591af38d2f671d8c3/asset-v1:SkillFactory+DSPR-2.0+14JULY2021+type@asset+block/dst3-u2-md3_5_4.png\"/>"
      ],
      "text/plain": [
       "<IPython.core.display.Image object>"
      ]
     },
     "execution_count": 4,
     "metadata": {},
     "output_type": "execute_result"
    }
   ],
   "source": [
    "# import image module\n",
    "from IPython.display import Image\n",
    "\n",
    "# get the image\n",
    "Image(url=\"https://lms.skillfactory.ru/assets/courseware/v1/6ca460197802a26591af38d2f671d8c3/asset-v1:SkillFactory+DSPR-2.0+14JULY2021+type@asset+block/dst3-u2-md3_5_4.png\")"
   ]
  },
  {
   "attachments": {},
   "cell_type": "markdown",
   "metadata": {},
   "source": [
    "Синтаксис FULL OUTER JOIN аналогичен другим JOIN."
   ]
  },
  {
   "attachments": {},
   "cell_type": "markdown",
   "metadata": {},
   "source": [
    "SELECT \n",
    "\n",
    "…\n",
    "\n",
    "FROM\n",
    "\n",
    "table1\n",
    "\n",
    "FULL OUTER JOIN table2 ON условие"
   ]
  },
  {
   "attachments": {},
   "cell_type": "markdown",
   "metadata": {},
   "source": [
    "## CROSS JOIN"
   ]
  },
  {
   "attachments": {},
   "cell_type": "markdown",
   "metadata": {},
   "source": [
    "На самом деле с этим оператором соединения таблиц вы познакомились в самом начале текущего модуля."
   ]
  },
  {
   "attachments": {},
   "cell_type": "markdown",
   "metadata": {},
   "source": [
    "    CROSS JOIN соединяет таблицы так, что каждая запись в первой таблице присоединяется к каждой записи во второй таблице, иначе говоря, даёт декартово произведение."
   ]
  },
  {
   "cell_type": "code",
   "execution_count": 5,
   "metadata": {},
   "outputs": [
    {
     "data": {
      "text/html": [
       "<img src=\"https://lms.skillfactory.ru/assets/courseware/v1/bab33905e69032274d6f7e9f4abced95/asset-v1:SkillFactory+DSPR-2.0+14JULY2021+type@asset+block/dst3-u2-md3_5_5.png\"/>"
      ],
      "text/plain": [
       "<IPython.core.display.Image object>"
      ]
     },
     "execution_count": 5,
     "metadata": {},
     "output_type": "execute_result"
    }
   ],
   "source": [
    "# import image module\n",
    "from IPython.display import Image\n",
    "\n",
    "# get the image\n",
    "Image(url=\"https://lms.skillfactory.ru/assets/courseware/v1/bab33905e69032274d6f7e9f4abced95/asset-v1:SkillFactory+DSPR-2.0+14JULY2021+type@asset+block/dst3-u2-md3_5_5.png\")"
   ]
  },
  {
   "attachments": {},
   "cell_type": "markdown",
   "metadata": {},
   "source": [
    "В начале модуля вы использовали этот оператор, записывая таблицы через запятую."
   ]
  },
  {
   "attachments": {},
   "cell_type": "markdown",
   "metadata": {},
   "source": [
    "SELECT * /*выбор всех полей*/\n",
    "\n",
    "FROM\n",
    "\n",
    "sql.teams, /*таблица teams*/\n",
    "\n",
    "sql.matches /*таблица matches*/"
   ]
  },
  {
   "attachments": {},
   "cell_type": "markdown",
   "metadata": {},
   "source": [
    "Этот же запрос можно записать с использованием CROSS JOIN."
   ]
  },
  {
   "attachments": {},
   "cell_type": "markdown",
   "metadata": {},
   "source": [
    "SELECT * /*выбор всех полей*/\n",
    "\n",
    "FROM\n",
    "\n",
    "sql.teams /*таблица teams*/\n",
    "\n",
    "CROSS JOIN sql.matches /*таблица matches*/"
   ]
  },
  {
   "attachments": {},
   "cell_type": "markdown",
   "metadata": {},
   "source": [
    "    Обратите внимание! Условие для CROSS JOIN, в отличие от других операторов, не требуется."
   ]
  },
  {
   "attachments": {},
   "cell_type": "markdown",
   "metadata": {},
   "source": [
    "Также этот запрос можно записать с помощью INNER JOIN с условием on true — результат будет тот же."
   ]
  },
  {
   "attachments": {},
   "cell_type": "markdown",
   "metadata": {},
   "source": [
    "SELECT * /*выбор всех полей*/\n",
    "\n",
    "FROM\n",
    "\n",
    "sql.teams /*таблица teams*/\n",
    "\n",
    "JOIN sql.matches ON TRUE /*оператор соединения INNER JOIN; таблица matches; условие: для всех случаев*/"
   ]
  },
  {
   "attachments": {},
   "cell_type": "markdown",
   "metadata": {},
   "source": [
    "CROSS JOIN может быть полезен, когда необходимо создать таблицу фактов.\n",
    "\n",
    "Например, с помощью такого запроса мы можем получить все возможные комбинации полных названий команд в матчах."
   ]
  },
  {
   "attachments": {},
   "cell_type": "markdown",
   "metadata": {},
   "source": [
    "SELECT\n",
    "\n",
    "DISTINCT /*оператор исключения повторяющихся строк*/\n",
    "\n",
    "t1.long_name home_team, /*столбец long_name таблицы t1; новое название*/\n",
    "\n",
    "t2.long_name away_team /*столбец long_name таблицы t2; новое название*/\n",
    "\n",
    "FROM\n",
    "\n",
    "sql.teams t1 /*таблица teams с алиасом t1*/\n",
    "\n",
    "CROSS JOIN sql.teams t2 /*оператор соединения CROSS JOIN; таблица teams с алиасом t2*/"
   ]
  },
  {
   "attachments": {},
   "cell_type": "markdown",
   "metadata": {},
   "source": [
    "## NATURAL JOIN"
   ]
  },
  {
   "attachments": {},
   "cell_type": "markdown",
   "metadata": {},
   "source": [
    "Ключевое слово natural в начале оператора JOIN позволяет не указывать условие соединения таблиц — для соединения будут использованы столбцы с одинаковым названием из этих таблиц.\n",
    "\n",
    "NATURAL JOIN можно использовать с любыми видами соединений, которые требуют условия соединения:\n",
    "\n",
    "→ NATURAL INNER JOIN (возможна запись NATURAL JOIN);\n",
    "→ NATURAL LEFT JOIN;\n",
    "→ NATURAL RIGHT JOIN;\n",
    "→ NATURAL FULL OUTER JOIN.\n",
    "\n",
    "При использовании NATURAL JOIN прежде всего стоит обратить внимание на ключи таблиц. Для наших таблиц teams и matches этот вид соединения не подойдёт, так как общим для обеих таблиц является столбец id, но таблицы соединяются по другим столбцам.\n",
    "\n",
    "Когда у таблиц есть несколько столбцов с одинаковыми именами, при NATURAL JOIN условие соединения будет применено на все столбцы с одинаковыми именами.\n",
    "\n",
    "То есть для таблиц table1 и table2\n",
    "\n",
    "table1: id, name, ...\n",
    "\n",
    "table2: id, name, ...\n",
    "\n",
    "запрос"
   ]
  },
  {
   "attachments": {},
   "cell_type": "markdown",
   "metadata": {},
   "source": [
    "SELECT \n",
    "\n",
    "…\n",
    "\n",
    "FROM \n",
    "\n",
    "table1 \n",
    "\n",
    "NATURAL JOIN table2"
   ]
  },
  {
   "attachments": {},
   "cell_type": "markdown",
   "metadata": {},
   "source": [
    "будет равнозначен запросу"
   ]
  },
  {
   "attachments": {},
   "cell_type": "markdown",
   "metadata": {},
   "source": [
    "SELECT\n",
    "\n",
    "…\n",
    "\n",
    "FROM \n",
    "\n",
    "table1 t1\n",
    "\n",
    "INNER JOIN table2 t2 ON t1.id = t2.id AND t1.name = t2.name"
   ]
  },
  {
   "attachments": {},
   "cell_type": "markdown",
   "metadata": {},
   "source": [
    "## ОБЩАЯ ЛОГИКА ПОСТРОЕНИЯ ЗАПРОСА С JOIN"
   ]
  },
  {
   "attachments": {},
   "cell_type": "markdown",
   "metadata": {},
   "source": [
    "При построении запроса с несколькими JOIN старайтесь идти слева направо. Сначала выберите таблицу, которая является центральной в соответствии с поставленной задачей, вопросом. Затем добавляйте таблицы поэтапно в зависимости от бизнес-логики запроса.\n",
    "\n",
    "Например, для ответа на вопрос: «Какая команда сыграла больше всех матчей в сезоне 2010/2011?» в качестве центральной лучше выбрать таблицу с командами.\n",
    "\n",
    "А для ответа на вопрос: «В каком сезоне участвовало больше всего команд?» — таблицу с матчами.\n",
    "\n",
    "    Стоит отметить, что из рассмотренных видов соединений чаще всего используются INNER JOIN и LEFT JOIN. Другие операторы используются реже, но стоит помнить об их существовании при решении нестандартных задач."
   ]
  }
 ],
 "metadata": {
  "kernelspec": {
   "display_name": "Python 3",
   "language": "python",
   "name": "python3"
  },
  "language_info": {
   "codemirror_mode": {
    "name": "ipython",
    "version": 3
   },
   "file_extension": ".py",
   "mimetype": "text/x-python",
   "name": "python",
   "nbconvert_exporter": "python",
   "pygments_lexer": "ipython3",
   "version": "3.9.10"
  },
  "orig_nbformat": 4,
  "vscode": {
   "interpreter": {
    "hash": "25ef66b64f87b83de5678661cf05678b8b270938559328a8b229cefd9dd529c6"
   }
  }
 },
 "nbformat": 4,
 "nbformat_minor": 2
}
