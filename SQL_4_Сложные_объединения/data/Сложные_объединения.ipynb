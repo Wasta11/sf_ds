{
 "cells": [
  {
   "attachments": {},
   "cell_type": "markdown",
   "metadata": {},
   "source": [
    "# 1_Знакомимся с данными"
   ]
  },
  {
   "attachments": {},
   "cell_type": "markdown",
   "metadata": {},
   "source": [
    "✍ Вы уже умеете присоединять строки друг к другу путём добавления столбцов «сбоку» — с помощью различных видов JOIN.\n",
    "\n",
    "?\n",
    "А что если нам необходимо присоединить несколько результатов «снизу», так, чтобы получить общий результат в выводе?\n",
    "\n",
    "Ответу на этот вопрос и посвящён текущий модуль."
   ]
  },
  {
   "attachments": {},
   "cell_type": "markdown",
   "metadata": {},
   "source": [
    "В данном блоке мы будем работать с данными о компании, организующей перевозки грузов.\n",
    "\n",
    "Интересующие нас данные хранятся в таблицах city, customer, driver, shipment, truck. Давайте внимательно их изучим.\n",
    "\n",
    "Ниже представлена ER-диаграмма (от англ. entity-relation, дословно — «сущность-связь»), которая отображает существующие связи между отдельными таблицами."
   ]
  },
  {
   "cell_type": "code",
   "execution_count": 1,
   "metadata": {},
   "outputs": [
    {
     "data": {
      "text/html": [
       "<img src=\"https://lms.skillfactory.ru/assets/courseware/v1/5903f8fada18b9da7c7c31ce8477feb6/asset-v1:SkillFactory+DSPR-2.0+14JULY2021+type@asset+block/dst3-u2-md4_1_1.jpg\"/>"
      ],
      "text/plain": [
       "<IPython.core.display.Image object>"
      ]
     },
     "execution_count": 1,
     "metadata": {},
     "output_type": "execute_result"
    }
   ],
   "source": [
    "# import image module\n",
    "from IPython.display import Image\n",
    "\n",
    "# get the image\n",
    "Image(url=\"https://lms.skillfactory.ru/assets/courseware/v1/5903f8fada18b9da7c7c31ce8477feb6/asset-v1:SkillFactory+DSPR-2.0+14JULY2021+type@asset+block/dst3-u2-md4_1_1.jpg\")"
   ]
  },
  {
   "attachments": {},
   "cell_type": "markdown",
   "metadata": {},
   "source": [
    "    Таблица city — это справочник городов. Структура справочника представлена ниже."
   ]
  },
  {
   "attachments": {},
   "cell_type": "markdown",
   "metadata": {},
   "source": [
    "city_id\tinteger\tуникальный идентификатор города, первичный ключ\n",
    "\n",
    "city_name\ttext\tназвание города\n",
    "\n",
    "state\ttext\tштат, к которому относится город\n",
    "\n",
    "population\tinteger\tнаселение города\n",
    "\n",
    "area\tnumeric\tплощадь города"
   ]
  },
  {
   "attachments": {},
   "cell_type": "markdown",
   "metadata": {},
   "source": [
    "    Таблица customer — это справочник клиентов. У компании, с данными которой мы работаем, только корпоративные клиенты, поэтому в таблице нет привычных данных о возрасте и поле. Справочник содержит следующие поля:"
   ]
  },
  {
   "attachments": {},
   "cell_type": "markdown",
   "metadata": {},
   "source": [
    "cust_id\tinteger\tуникальный идентификатор клиента, первичный ключ\n",
    "\n",
    "cust_name\ttext\tназвание клиента\n",
    "\n",
    "annual_revenue\tnumeric\tежегодная выручка\n",
    "\n",
    "cust_type\ttext\tтип пользователя\n",
    "\n",
    "address\ttext\tадрес\n",
    "\n",
    "zip\tinteger\tпочтовый индекс\n",
    "\n",
    "phone\ttext\tтелефон\n",
    "\n",
    "city_id\tinteger\tидентификатор города, внешний ключ к таблице city"
   ]
  },
  {
   "attachments": {},
   "cell_type": "markdown",
   "metadata": {},
   "source": [
    "    Следующая таблица — driver — справочник водителей. Перечень сведений, содержащихся в таблице, представлен ниже."
   ]
  },
  {
   "attachments": {},
   "cell_type": "markdown",
   "metadata": {},
   "source": [
    "driver_id\tinteger\tуникальный идентификатор водителя, первичный ключ\n",
    "\n",
    "first_name\ttext\tимя водителя\n",
    "\n",
    "last_name\ttext\tфамилия водителя\n",
    "\n",
    "address\ttext\tадрес водителя\n",
    "\n",
    "zip_code\tinteger\tпочтовый индекс водителя\n",
    "\n",
    "phone\ttext\tтелефон водителя\n",
    "\n",
    "city_id\tinteger\tидентификатор города водителя, внешний ключ к таблице city"
   ]
  },
  {
   "attachments": {},
   "cell_type": "markdown",
   "metadata": {},
   "source": [
    "    В таблице truck хранится информация о грузовиках, на которых осуществляются перевозки. Данные о них представлены в следующем виде:"
   ]
  },
  {
   "attachments": {},
   "cell_type": "markdown",
   "metadata": {},
   "source": [
    "truck_id\tinteger\tУникальный идентификатор грузовика, первичный ключ\n",
    "\n",
    "make\ttext\tПроизводитель грузовика\n",
    "\n",
    "model_year\tinteger\tДата выпуска грузовика"
   ]
  },
  {
   "attachments": {},
   "cell_type": "markdown",
   "metadata": {},
   "source": [
    "    Последняя таблица в датасете, shipment, — таблица с данными непосредственно о доставках. Она описывает взаимодействие всех перечисленных сущностей, а потому содержит наибольшее количество ссылок на другие таблицы."
   ]
  },
  {
   "attachments": {},
   "cell_type": "markdown",
   "metadata": {},
   "source": [
    "ship_id\tinteger\tуникальный идентификатор доставки, первичный ключ\n",
    "\n",
    "cust_id\tinteger\tидентификатор клиента, которому отправлена доставка, внешний ключ к таблице customer\n",
    "\n",
    "weight\tnumeric\tвес посылки\n",
    "\n",
    "truck_id\tinteger\tидентификатор грузовика, на котором отправлена доставка, внешний ключ\n",
    "к таблице truck\n",
    "\n",
    "driver_id\tinteger\tидентификатор водителя, который осуществлял доставку, внешний ключ к таблице driver\n",
    "\n",
    "city_id\tinteger\tидентификатор города в который совершена доставка, внешний ключ\n",
    "к таблице city\n",
    "\n",
    "ship_date\tdate\tдата доставки"
   ]
  },
  {
   "attachments": {},
   "cell_type": "markdown",
   "metadata": {},
   "source": [
    "# 2_UNION"
   ]
  },
  {
   "attachments": {},
   "cell_type": "markdown",
   "metadata": {},
   "source": [
    "## ПРИНЦИП И УСЛОВИЯ РАБОТЫ UNION"
   ]
  },
  {
   "attachments": {},
   "cell_type": "markdown",
   "metadata": {},
   "source": [
    "✍ Вернёмся к центральному вопросу модуля: как соединить несколько результатов, чтобы получить в выводе один общий?"
   ]
  },
  {
   "attachments": {},
   "cell_type": "markdown",
   "metadata": {},
   "source": [
    "Чтобы разобраться в этом вопросе, смоделируем ситуацию"
   ]
  },
  {
   "attachments": {},
   "cell_type": "markdown",
   "metadata": {},
   "source": [
    "Допустим, мы хотим собрать из справочников по книгам и фильмам один, так чтобы в нём содержались названия произведений, а также их описание — книга или фильм.\n",
    "\n",
    "Для этого напишем простой запрос:\n",
    "\n",
    "SELECT book_name object_name, 'книга' object_descritption /*выбираем столбец с названием book_name, задаём алиас для столбца object_name, задаём во второй колонке объект ‘книга’ с алиасом для столбца object_descritption*/\n",
    "\n",
    "FROM public.books /*из схемы public и таблицы books*/\n",
    "\n",
    "UNION ALL /*оператор присоединения*/\n",
    "\n",
    "SELECT movie_title, 'фильм' /*выбираем столбец movie_title, сами задаём во второй колонке объект ‘фильм’*/\n",
    "\n",
    "FROM sql.kinopoisk /*из схемы sql и таблицы kinopoisk*/"
   ]
  },
  {
   "attachments": {},
   "cell_type": "markdown",
   "metadata": {},
   "source": [
    "Общий принцип мы поняли, разберёмся в деталях:"
   ]
  },
  {
   "attachments": {},
   "cell_type": "markdown",
   "metadata": {},
   "source": [
    "В запросе мы использовали оператор UNION ALL — он присоединяет любой результат запроса к другому «снизу» при условии, что у них одинаковая структура, а именно:\n",
    "\n",
    "* одинаковый тип данных;\n",
    "* одинаковое количество столбцов;\n",
    "* одинаковый порядок столбцов согласно типу данных."
   ]
  },
  {
   "attachments": {},
   "cell_type": "markdown",
   "metadata": {},
   "source": [
    "## ВИДЫ UNION"
   ]
  },
  {
   "attachments": {},
   "cell_type": "markdown",
   "metadata": {},
   "source": [
    "Оператор присоединения существует в двух вариантах:\n",
    "\n",
    "* UNION выводит только уникальные записи;\n",
    "* UNION ALL присоединяет все строки последующих таблиц к предыдущим, без ограничений по уникальности."
   ]
  },
  {
   "attachments": {},
   "cell_type": "markdown",
   "metadata": {},
   "source": [
    "    Важно! UNION оставляет только уникальные значения, а потому требует дополнительных вычислительных мощностей и памяти (в данном случае можно провести аналогию с DISTINCT). Поэтому если вы уверены в отсутствии дубликатов в данных или они вам не важны, предпочтительнее использовать UNION ALL."
   ]
  },
  {
   "attachments": {},
   "cell_type": "markdown",
   "metadata": {},
   "source": [
    "## СИНТАКСИС"
   ]
  },
  {
   "attachments": {},
   "cell_type": "markdown",
   "metadata": {},
   "source": [
    "Запрос строится таким образом:"
   ]
  },
  {
   "attachments": {},
   "cell_type": "markdown",
   "metadata": {},
   "source": [
    "SELECT\n",
    "\n",
    "n columns\n",
    "\n",
    "FROM \n",
    "\n",
    "table_1\n",
    "\n",
    "UNION ALL\n",
    "\n",
    "SELECT \n",
    "\n",
    "n columns\n",
    "\n",
    "FROM \n",
    "\n",
    "table_2\n",
    "...\n",
    "\n",
    "UNION ALL\n",
    "\n",
    "SELECT \n",
    "\n",
    "n columns\n",
    "\n",
    "FROM \n",
    "\n",
    "table_n"
   ]
  },
  {
   "attachments": {},
   "cell_type": "markdown",
   "metadata": {},
   "source": [
    "Результатом выполнения такого запроса будут строки table_1, table_2, ..., table_n, соединённые одни под другими и выведенные в единой выдаче."
   ]
  },
  {
   "attachments": {},
   "cell_type": "markdown",
   "metadata": {},
   "source": [
    "    Важно! Названия итоговых колонок в выводе будут такие же, как в первом блоке SELECT, даже если они отличаются в других блоках подзапросов."
   ]
  },
  {
   "attachments": {},
   "cell_type": "markdown",
   "metadata": {},
   "source": [
    "Пришла пора испытать функцию UNION(ALL) на практике.\n",
    "\n",
    "Обратимся к нашему датасету о транспортной компании и посмотрим, как сформировать справочник с ID всех таблиц и указанием объекта, к которому он относится."
   ]
  },
  {
   "attachments": {},
   "cell_type": "markdown",
   "metadata": {},
   "source": [
    "SELECT\n",
    "\n",
    "c.city_id object_name,  'id города' object_type /*выбираем колонку city_id и задаём ей алиас object_name, сами задаём объект 'id города' и название столбца object_type*/\n",
    "\n",
    "FROM \n",
    "\n",
    "sql.city c /*из схемы sql и таблицы city, задаём алиас таблице — с*/\n",
    "\n",
    "UNION ALL /*оператор присоединения*/\n",
    "\n",
    "SELECT\n",
    "\n",
    "d.driver_id other_name,  'id водителя' other_type /*выбираем колонку driver_id и задаём ей алиас other_name, сами задаём объект 'id водителя' и название столбца other_type*/\n",
    "\n",
    "FROM \n",
    "\n",
    "sql.driver d  /*из схемы sql и таблицы driver, задаём алиас таблице — d*/\n",
    "\n",
    "UNION ALL /*оператор присоединения*/\n",
    "\n",
    "SELECT\n",
    "\n",
    "s.ship_id,  'id доставки' /*выбираем колонку ship_id, сами задаём объект 'id доставки'*/\n",
    "\n",
    "FROM \n",
    "\n",
    "sql.shipment s /*из схемы sql и таблицы shipment, задаём алиас таблице — s*/\n",
    "\n",
    "UNION ALL /*оператор присоединения*/\n",
    "\n",
    "SELECT\n",
    "\n",
    "c.cust_id,  'id клиента' /*выбираем колонку cust_id, сами задаём объект 'id клиента'*/\n",
    "\n",
    "FROM \n",
    "\n",
    "sql.customer c /*из схемы sql и таблицы customer, задаём алиас таблице — c*/\n",
    "\n",
    "UNION ALL /*оператор присоединения*/\n",
    "\n",
    "SELECT\n",
    "\n",
    "t.truck_id,  'id грузовика' /*выбираем колонку truck_id, сами задаём объект 'id грузовика'*/\n",
    "\n",
    "FROM \n",
    "\n",
    "sql.truck t /*из схемы sql и таблицы truck, задаём алиас таблице — t*/\n",
    "\n",
    "ORDER BY 1 /*сортировка по первому столбцу*/"
   ]
  },
  {
   "attachments": {},
   "cell_type": "markdown",
   "metadata": {},
   "source": [
    "    Обратите внимание! Несмотря на исходные названия колонок other_name и other_type во втором подзапросе, в выводе мы получим названия, которые дали в первом блоке: object_name и object_type."
   ]
  },
  {
   "attachments": {},
   "cell_type": "markdown",
   "metadata": {},
   "source": [
    "    Другая особенность — в применении сортировки ORDER BY: она всегда будет относиться к итоговому результату всего запроса с UNION ALL."
   ]
  },
  {
   "attachments": {},
   "cell_type": "markdown",
   "metadata": {},
   "source": [
    "В случаях, когда необходимо применить команду ORDER BY или LIMIT не к итоговому результату, а к каждой части запроса, можно обернуть подзапросы в скобки.\n",
    "\n",
    "Чтобы посмотреть, как это работает, вернёмся к нашему примеру с общим справочником по фильмам и книгам.\n",
    "\n",
    "Мы уже знаем, что можно легко и непринуждённо применить операторы ORDER BY и LIMIT ко всему результату запроса."
   ]
  },
  {
   "attachments": {},
   "cell_type": "markdown",
   "metadata": {},
   "source": [
    "SELECT book_name object_name, 'книга' object_descritption \n",
    "\n",
    "FROM public.books\n",
    "\n",
    "UNION ALL\n",
    "\n",
    "SELECT movie_title, 'фильм' \n",
    "\n",
    "FROM sql.kinopoisk\n",
    "\n",
    "ORDER BY 1\n",
    "\n",
    "LIMIT 1"
   ]
  },
  {
   "attachments": {},
   "cell_type": "markdown",
   "metadata": {},
   "source": [
    "Всё бы хорошо, только в таком случае отсортирован будет весь общий справочник, а в выводе останется одна строка с названием объекта, идущим первым по алфавиту.\n",
    "\n",
    "А если мы не хотим общую сортировку? Может, нам нужны строки с названием как фильма, так и книги, идущих первыми по алфавиту.\n",
    "\n",
    "Нет ничего проще — отсортируем каждую часть запроса по отдельности и объединим результаты!"
   ]
  },
  {
   "attachments": {},
   "cell_type": "markdown",
   "metadata": {},
   "source": [
    "SELECT book_name object_name, 'книга' object_descritption \n",
    "\n",
    "FROM public.books\n",
    "\n",
    "ORDER BY 1\n",
    "\n",
    "LIMIT 1\n",
    "\n",
    "UNION ALL\n",
    "\n",
    "SELECT movie_title, 'фильм' \n",
    "\n",
    "FROM sql.kinopoisk\n",
    "\n",
    "ORDER BY 1\n",
    "\n",
    "LIMIT 1"
   ]
  },
  {
   "attachments": {},
   "cell_type": "markdown",
   "metadata": {},
   "source": [
    "Вместо результата получим сообщение о синтаксической ошибке: \"...syntax error at or near \"UNION\"...\" Очевидно, этот фокус не удался.\n",
    "\n",
    "Не стоит огорчаться, ведь проблему можно решить одним (ну, почти) движением руки — просто добавив скобки вокруг каждой из частей запроса."
   ]
  },
  {
   "attachments": {},
   "cell_type": "markdown",
   "metadata": {},
   "source": [
    "(SELECT book_name object_name, 'книга' object_descritption \n",
    "\n",
    "FROM public.books\n",
    "\n",
    "ORDER BY 1\n",
    "\n",
    "LIMIT 1)\n",
    "\n",
    "UNION ALL\n",
    "\n",
    "(SELECT movie_title, 'фильм' \n",
    "\n",
    "FROM sql.kinopoisk\n",
    "\n",
    "ORDER BY 1\n",
    "\n",
    "LIMIT 1)"
   ]
  },
  {
   "attachments": {},
   "cell_type": "markdown",
   "metadata": {},
   "source": [
    "# 3_UNION и ограничение типов данных"
   ]
  },
  {
   "attachments": {},
   "cell_type": "markdown",
   "metadata": {},
   "source": [
    "## ПОЧЕМУ ТАК ВАЖЕН ТИП ДАННЫХ?"
   ]
  },
  {
   "attachments": {},
   "cell_type": "markdown",
   "metadata": {},
   "source": [
    "Как мы уже знаем, UNION может быть использован только в случае полного соответствия столбцов и их типов в объединяемых запросах.\n",
    "\n",
    "Допустим, мы хотим вывести список всех id городов и их названий в одном столбце."
   ]
  },
  {
   "attachments": {},
   "cell_type": "markdown",
   "metadata": {},
   "source": [
    "Давайте напишем запрос, который позволит получить нужный нам результат."
   ]
  },
  {
   "attachments": {},
   "cell_type": "markdown",
   "metadata": {},
   "source": [
    "SELECT \n",
    "\n",
    "c.city_id /*выбираем столбец city_id*/\n",
    "\n",
    "FROM\n",
    "\n",
    "sql.city c /*из схемы sql  и таблицы city, задаём таблице алиас с*/ \n",
    "\n",
    "UNION ALL /*оператор присоединения*/\n",
    "\n",
    "SELECT \n",
    "\n",
    "cc.city_name /*выбираем столбец city_name*/\n",
    "\n",
    "FROM\n",
    "\n",
    "sql.city cc /*из схемы sql и таблицы city, задаём таблице алиас сс*/"
   ]
  },
  {
   "attachments": {},
   "cell_type": "markdown",
   "metadata": {},
   "source": [
    "Вместо результата вы получите сообщение об ошибке: \"ERROR: UNION types integer and text cannot be matched\". Дело в том, что мы попытались объединить числовой и строковый типы в одной колонке, а это невозможно."
   ]
  },
  {
   "attachments": {},
   "cell_type": "markdown",
   "metadata": {},
   "source": [
    "    Если мы всё же хотим выполнить поставленную задачу, придётся привести оба столбца к одному типу данных. Не каждый текст может быть приведён к числу, зато каждое число может быть представлено в текстовом формате."
   ]
  },
  {
   "attachments": {},
   "cell_type": "markdown",
   "metadata": {},
   "source": [
    "Забегая вперёд, скажем пару слов о типизации столбцов. Для типизации в Postgres составляется запрос по модели column_name::column_type.\n",
    "\n",
    "Таким образом, чтобы перевести city_id в текст, нам потребуется написать city_id::text."
   ]
  },
  {
   "attachments": {},
   "cell_type": "markdown",
   "metadata": {},
   "source": [
    "    Важно! Любой тип данных может быть приведён к текстовому формату — эту возможность целесообразно использовать для соединения разнородных сущностей. Главное — помнить, что сортировка текста отличается от сортировки чисел и дат."
   ]
  },
  {
   "attachments": {},
   "cell_type": "markdown",
   "metadata": {},
   "source": [
    "Немного подправим запрос, чтобы получить желаемый результат."
   ]
  },
  {
   "attachments": {},
   "cell_type": "markdown",
   "metadata": {},
   "source": [
    "SELECT \n",
    "\n",
    "c.city_id::text /*выбираем столбец city_id, переводим city_id из числового в текстовый формат*/\n",
    "\n",
    "FROM\n",
    "\n",
    "sql.city c /*из схемы sql  и таблицы city, задаём таблице алиас с*/\n",
    "\n",
    "UNION ALL /*оператор присоединения*/\n",
    "\n",
    "SELECT \n",
    "\n",
    "cc.city_name /*выбираем столбец city_name*/\n",
    "\n",
    "FROM\n",
    "\n",
    "sql.city cc /*из схемы sql и таблицы city, задаём таблице алиас сс*/"
   ]
  },
  {
   "attachments": {},
   "cell_type": "markdown",
   "metadata": {},
   "source": [
    "# 4_UNION ALL и промежуточные итоги"
   ]
  },
  {
   "attachments": {},
   "cell_type": "markdown",
   "metadata": {},
   "source": [
    "## ВОЗМОЖНОСТИ UNION"
   ]
  },
  {
   "attachments": {},
   "cell_type": "markdown",
   "metadata": {},
   "source": [
    "✍ Помимо соединения разнородных сущностей в единый справочник, UNION ALL часто используется для подведения промежуточных итогов и выведения результатов агрегатных функций.\n",
    "\n",
    "Кроме агрегатных функций, в запросах с UNION могут использоваться функции группировки и выборки."
   ]
  },
  {
   "attachments": {},
   "cell_type": "markdown",
   "metadata": {},
   "source": [
    "Попробуем вывести обобщённые данные о населении по всем городам, с детализацией до конкретного города."
   ]
  },
  {
   "attachments": {},
   "cell_type": "markdown",
   "metadata": {},
   "source": [
    "SELECT\n",
    "\n",
    "c.city_name,\n",
    "\n",
    "c.population /*выбираем столбцы city_name, population*/\n",
    "\n",
    "FROM\n",
    "\n",
    "sql.city c /*из схемы sql и таблицы city, задаём таблице алиас с*/\n",
    "\n",
    "UNION ALL /*оператор присоединения*/\n",
    "\n",
    "SELECT\n",
    "\n",
    "'total',\n",
    "\n",
    "SUM(c.population) /*сами задаём объект ‘total’, суммируем все значения столбца population*/\n",
    "\n",
    "FROM\n",
    "\n",
    "sql.city c /*из схемы sql и таблицы city, задаём таблице алиас с*/\n",
    "\n",
    "ORDER BY 2 DESC /*сортируем по второму столбцу в убывающем порядке (чтобы итоговая сумма была в начале)*/"
   ]
  },
  {
   "attachments": {},
   "cell_type": "markdown",
   "metadata": {},
   "source": [
    "Визуально это действие можно представить так:"
   ]
  },
  {
   "cell_type": "code",
   "execution_count": 2,
   "metadata": {},
   "outputs": [
    {
     "data": {
      "text/html": [
       "<img src=\"https://lms.skillfactory.ru/assets/courseware/v1/5b38c2b9fa661c3e2c559506101f4fb7/asset-v1:SkillFactory+DSPR-2.0+14JULY2021+type@asset+block/dst3-u2-md4_4_1.png\"/>"
      ],
      "text/plain": [
       "<IPython.core.display.Image object>"
      ]
     },
     "execution_count": 2,
     "metadata": {},
     "output_type": "execute_result"
    }
   ],
   "source": [
    "# import image module\n",
    "from IPython.display import Image\n",
    "\n",
    "# get the image\n",
    "Image(url=\"https://lms.skillfactory.ru/assets/courseware/v1/5b38c2b9fa661c3e2c559506101f4fb7/asset-v1:SkillFactory+DSPR-2.0+14JULY2021+type@asset+block/dst3-u2-md4_4_1.png\")"
   ]
  },
  {
   "attachments": {},
   "cell_type": "markdown",
   "metadata": {},
   "source": [
    "# 5_UNION и дополнительные условия"
   ]
  },
  {
   "attachments": {},
   "cell_type": "markdown",
   "metadata": {},
   "source": [
    "✍ UNION также может быть использован для разделения существующей выборки по критерию «выполнение определённого условия»."
   ]
  },
  {
   "attachments": {},
   "cell_type": "markdown",
   "metadata": {},
   "source": [
    "Например, с помощью UNION можно отобразить, у кого из водителей заполнен столбец с номером телефона."
   ]
  },
  {
   "attachments": {},
   "cell_type": "markdown",
   "metadata": {},
   "source": [
    "SELECT\n",
    "\n",
    "d.first_name,\n",
    "\n",
    "d.last_name, 'телефон заполнен' phone_info /*выбираем столбцы first_name, last_name, сами выводим объект ‘телефон заполнен’*/\n",
    "\n",
    "FROM\n",
    "\n",
    "sql.driver d /*из схемы sql и таблицы driver, задаём алиас d*/\n",
    "\n",
    "WHERE d.phone IS NOT NULL /*условие, что телефон заполнен*/\n",
    "\n",
    "UNION /*оператор присоединения (уникальные значения)*/\n",
    "\n",
    "SELECT\n",
    "\n",
    "d.first_name,\n",
    "\n",
    "d.last_name, 'телефон не заполнен' phone_info /*выбираем столбцы first_name, last_name, сами выводим объект ‘телефон не заполнен’*/\n",
    "\n",
    "FROM\n",
    "\n",
    "sql.driver d /*из схемы sql и таблицы driver, задаём алиас d*/\n",
    "\n",
    "WHERE d.phone IS NULL /*условие, что телефон не заполнен*/"
   ]
  },
  {
   "attachments": {},
   "cell_type": "markdown",
   "metadata": {},
   "source": [
    "# 6_UNION и ручная генерация"
   ]
  },
  {
   "attachments": {},
   "cell_type": "markdown",
   "metadata": {},
   "source": [
    "✍ UNION можно использовать для создания справочников прямо в коде запроса. К примеру, если мы хотим вручную ввести какие-то значения и произвести с ними некоторые манипуляции или дополнить существующую выдачу своими значениями."
   ]
  },
  {
   "attachments": {},
   "cell_type": "markdown",
   "metadata": {},
   "source": [
    "Составим запрос, который позволит вывести первые три буквы алфавита и их порядковые номера.\n",
    "\n",
    "SELECT \n",
    "\n",
    "'a' letter,'1' ordinal_position /*сами задаём значение первого столбца ‘a’ и алиас для него letter, значение второго столбца ‘1’ и алиас для него ordinal_position*/\n",
    "         \n",
    "UNION /*оператор присоединения*/\n",
    "\n",
    "SELECT \n",
    "\n",
    "'b','2' /*сами задаём значение первого столбца ‘b’, значение второго столбца ‘2’ */\n",
    "         \n",
    "UNION /*оператор присоединения*/\n",
    "\n",
    "SELECT\n",
    "\n",
    "'c','3' /*сами задаём значение первого столбца ‘с’, значение второго столбца ‘3’*/ "
   ]
  },
  {
   "attachments": {},
   "cell_type": "markdown",
   "metadata": {},
   "source": [
    "    Существуют сложные алгоритмы сравнения текстовых значений, но главный смысл сводится к одному: сравнение производится на основе таблицы unicode и позиции элемента в ней с учётом определённых условий."
   ]
  },
  {
   "attachments": {},
   "cell_type": "markdown",
   "metadata": {},
   "source": [
    "# 7_EXCEPT"
   ]
  },
  {
   "attachments": {},
   "cell_type": "markdown",
   "metadata": {},
   "source": [
    "## ИСКЛЮЧАЕМ ПОВТОРЯЮЩИЕСЯ ДАННЫЕ"
   ]
  },
  {
   "attachments": {},
   "cell_type": "markdown",
   "metadata": {},
   "source": [
    "Предположим, нам нужно узнать, в какие города осуществлялась доставка, за исключением тех, в которых проживают водители."
   ]
  },
  {
   "attachments": {},
   "cell_type": "markdown",
   "metadata": {},
   "source": [
    "SELECT\n",
    "\n",
    "c.city_name /*выбираем столбец city_name*/\n",
    "\n",
    "FROM\n",
    "\n",
    "sql.shipment s /*из схемы sql и таблицы shipment, задаём таблице алиас s*/\n",
    "\n",
    "JOIN sql.city c ON s.city_id = c.city_id /*внутреннее присоединение из схемы sql таблицы city, задав ей алиас c, по ключам city_id*/\n",
    "\n",
    "EXCEPT /*оператор присоединения*/\n",
    "\n",
    "SELECT\n",
    "\n",
    "cc.city_name  /*выбираем столбец city_name*/\n",
    "\n",
    "FROM\n",
    "\n",
    "sql.driver d /*из схемы sql и таблицы driver, задаём таблице алиас d*/\n",
    "\n",
    "JOIN sql.city cc ON d.city_id=cc.city_id /*внутреннее присоединение из схемы sql таблицы city, задав ей алияс cc, по ключам city_id*/\n",
    "\n",
    "ORDER BY 1 /*сортировка по первому столбцу*/"
   ]
  },
  {
   "attachments": {},
   "cell_type": "markdown",
   "metadata": {},
   "source": [
    "Все водители проживают в городе Memphis, и мы видим, что он не выводится в результате запроса."
   ]
  },
  {
   "attachments": {},
   "cell_type": "markdown",
   "metadata": {},
   "source": [
    "Чтобы лучше понять данный тип присоединения, предлагаем ознакомиться с диаграммой Венна — математическим инструментом, представляющим возможные логические связи между соединёнными наборами данных."
   ]
  },
  {
   "cell_type": "code",
   "execution_count": 3,
   "metadata": {},
   "outputs": [
    {
     "data": {
      "text/html": [
       "<img src=\"https://lms.skillfactory.ru/assets/courseware/v1/fd51ef1b05d2fdc6f1c2e860cffb4cd7/asset-v1:SkillFactory+DSPR-2.0+14JULY2021+type@asset+block/dst3-u2-md4_7_1.png\"/>"
      ],
      "text/plain": [
       "<IPython.core.display.Image object>"
      ]
     },
     "execution_count": 3,
     "metadata": {},
     "output_type": "execute_result"
    }
   ],
   "source": [
    "# import image module\n",
    "from IPython.display import Image\n",
    "\n",
    "# get the image\n",
    "Image(url=\"https://lms.skillfactory.ru/assets/courseware/v1/fd51ef1b05d2fdc6f1c2e860cffb4cd7/asset-v1:SkillFactory+DSPR-2.0+14JULY2021+type@asset+block/dst3-u2-md4_7_1.png\")"
   ]
  },
  {
   "attachments": {},
   "cell_type": "markdown",
   "metadata": {},
   "source": [
    "Синтаксические правила для оператора EXCEPT такие же, как и для UNION:\n",
    "\n",
    "* одинаковый тип данных;\n",
    "* одинаковое количество столбцов;\n",
    "* одинаковый порядок столбцов согласно типу данных.\n",
    "\n",
    "Синтаксис выглядит следующим образом:"
   ]
  },
  {
   "attachments": {},
   "cell_type": "markdown",
   "metadata": {},
   "source": [
    "SELECT \n",
    "\n",
    "n columns\n",
    "\n",
    "FROM \n",
    "\n",
    "table_1\n",
    "\n",
    "EXCEPT\n",
    "\n",
    "SELECT \n",
    "\n",
    "n columns\n",
    "\n",
    "FROM \n",
    "\n",
    "table_2"
   ]
  },
  {
   "attachments": {},
   "cell_type": "markdown",
   "metadata": {},
   "source": [
    "    Мы уже знаем, как решить такую задачу с использованием LEFT JOIN. Вариант с EXCEPT будет полезен в тех случаях, когда у вас много столбцов и вам не хочется прописывать их равенство в условии для JOIN."
   ]
  },
  {
   "attachments": {},
   "cell_type": "markdown",
   "metadata": {},
   "source": [
    "Предположим, у нас есть информация о продажах канцелярского магазина за май и июнь.\n",
    "\n",
    "Какие-то позиции продавались и в том, и в другом месяце, а какие-то — только в одном. Использовав EXCEPT, мы можем оставить только те товары, которые есть в первом запросе (например, за май), но отсутствуют во втором запросе (например, за июнь).\n",
    "\n",
    "Графически действие оператора можно представить следующим образом:"
   ]
  },
  {
   "cell_type": "code",
   "execution_count": 4,
   "metadata": {},
   "outputs": [
    {
     "data": {
      "text/html": [
       "<img src=\"https://lms.skillfactory.ru/assets/courseware/v1/37fa117a6e758a7af619e4732dd2b4bb/asset-v1:SkillFactory+DSPR-2.0+14JULY2021+type@asset+block/dst3-u2-md4_7_2.png\"/>"
      ],
      "text/plain": [
       "<IPython.core.display.Image object>"
      ]
     },
     "execution_count": 4,
     "metadata": {},
     "output_type": "execute_result"
    }
   ],
   "source": [
    "# import image module\n",
    "from IPython.display import Image\n",
    "\n",
    "# get the image\n",
    "Image(url=\"https://lms.skillfactory.ru/assets/courseware/v1/37fa117a6e758a7af619e4732dd2b4bb/asset-v1:SkillFactory+DSPR-2.0+14JULY2021+type@asset+block/dst3-u2-md4_7_2.png\")"
   ]
  },
  {
   "attachments": {},
   "cell_type": "markdown",
   "metadata": {},
   "source": [
    "Таким образом, при присоединении с помощью EXCEPT мы вывели только те товары, которые были проданы в мае, но не в июне. Чтобы найти продажи по тем позициям, что были реализованы в июне, а в мае — нет, необходимо поменять запросы местами."
   ]
  },
  {
   "attachments": {},
   "cell_type": "markdown",
   "metadata": {},
   "source": [
    "# 8_INTERSECT"
   ]
  },
  {
   "attachments": {},
   "cell_type": "markdown",
   "metadata": {},
   "source": [
    "## ВЫБИРАЕМ ОБЩИЕ ДАННЫЕ"
   ]
  },
  {
   "attachments": {},
   "cell_type": "markdown",
   "metadata": {},
   "source": [
    "А что если нам надо вывести общие записи — те, что существуют в нескольких таблицах?"
   ]
  },
  {
   "attachments": {},
   "cell_type": "markdown",
   "metadata": {},
   "source": [
    "Предположим, нам надо вывести совпадающие по названию города и штаты."
   ]
  },
  {
   "attachments": {},
   "cell_type": "markdown",
   "metadata": {},
   "source": [
    "SELECT \n",
    "\n",
    "c.city_name object_name /*выбираем столбец city_name, задаём ему алиас object_name*/\n",
    "\n",
    "FROM \n",
    "\n",
    "sql.city c /*из схемы sql и таблицы city, задаём таблице алиас с*/\n",
    "\n",
    "INTERSECT /*оператор присоединения*/\n",
    "\n",
    "SELECT \n",
    "\n",
    "cc.state /*выбираем столбец state*/\n",
    "\n",
    "FROM \n",
    "\n",
    "sql.city cc /*из схемы sql и таблицы city, задаём таблице алиас с*/\n",
    "\n",
    "ORDER BY 1"
   ]
  },
  {
   "attachments": {},
   "cell_type": "markdown",
   "metadata": {},
   "source": [
    "Как видим, с помощью оператора INTERSECT мы вывели названия городов и штатов, которые совпадают: New York, Washington и Wyoming. Присмотримся к нему внимательнее."
   ]
  },
  {
   "attachments": {},
   "cell_type": "markdown",
   "metadata": {},
   "source": [
    "Чтобы лучше понять, как работает этот оператор, вновь обратимся к диаграмме Венна: INTERSECT оставляет из результатов первого запроса все строки, которые совпали с результатом выполнения второго запроса."
   ]
  },
  {
   "cell_type": "code",
   "execution_count": 5,
   "metadata": {},
   "outputs": [
    {
     "data": {
      "text/html": [
       "<img src=\"https://lms.skillfactory.ru/assets/courseware/v1/5c4422f466caff0a493c3ec664658ae8/asset-v1:SkillFactory+DSPR-2.0+14JULY2021+type@asset+block/dst3-u2-md4_8_1.png\"/>"
      ],
      "text/plain": [
       "<IPython.core.display.Image object>"
      ]
     },
     "execution_count": 5,
     "metadata": {},
     "output_type": "execute_result"
    }
   ],
   "source": [
    "# import image module\n",
    "from IPython.display import Image\n",
    "\n",
    "# get the image\n",
    "Image(url=\"https://lms.skillfactory.ru/assets/courseware/v1/5c4422f466caff0a493c3ec664658ae8/asset-v1:SkillFactory+DSPR-2.0+14JULY2021+type@asset+block/dst3-u2-md4_8_1.png\")"
   ]
  },
  {
   "attachments": {},
   "cell_type": "markdown",
   "metadata": {},
   "source": [
    "Синтаксис запроса с оператором INTERSECT выглядит следующим образом:"
   ]
  },
  {
   "attachments": {},
   "cell_type": "markdown",
   "metadata": {},
   "source": [
    "SELECT \n",
    "    \n",
    "n columns\n",
    "\n",
    "FROM \n",
    "\n",
    "table_1\n",
    "\n",
    "INTERSECT\n",
    "\n",
    "SELECT \n",
    "\n",
    "n columns\n",
    "\n",
    "FROM \n",
    "\n",
    "table_2"
   ]
  },
  {
   "attachments": {},
   "cell_type": "markdown",
   "metadata": {},
   "source": [
    "ернёмся к нашему примеру с продажами канцтоваров.\n",
    "\n",
    "С помощью оператора INTERSECT мы можем вывести те позиции, которые продавались и в мае, и в июне. Визуализировать это действие можно примерно так:"
   ]
  },
  {
   "cell_type": "code",
   "execution_count": 6,
   "metadata": {},
   "outputs": [
    {
     "data": {
      "text/html": [
       "<img src=\"https://lms.skillfactory.ru/assets/courseware/v1/0b1111999cc786de32fe2480e80d139e/asset-v1:SkillFactory+DSPR-2.0+14JULY2021+type@asset+block/dst3-u2-md4_8_2.png\"/>"
      ],
      "text/plain": [
       "<IPython.core.display.Image object>"
      ]
     },
     "execution_count": 6,
     "metadata": {},
     "output_type": "execute_result"
    }
   ],
   "source": [
    "# import image module\n",
    "from IPython.display import Image\n",
    "\n",
    "# get the image\n",
    "Image(url=\"https://lms.skillfactory.ru/assets/courseware/v1/0b1111999cc786de32fe2480e80d139e/asset-v1:SkillFactory+DSPR-2.0+14JULY2021+type@asset+block/dst3-u2-md4_8_2.png\")"
   ]
  },
  {
   "attachments": {},
   "cell_type": "markdown",
   "metadata": {},
   "source": [
    "Оператор INTERSECT оставляет только те строки, которые являются общими для двух запросов (в нашем примере это Тетрадь)."
   ]
  },
  {
   "attachments": {},
   "cell_type": "markdown",
   "metadata": {},
   "source": [
    "    Как EXCEPT, так и INTERSECT убирают дубликаты, если они имеются."
   ]
  },
  {
   "attachments": {},
   "cell_type": "markdown",
   "metadata": {},
   "source": [
    "# 9_Итоги. Закрепление знаний"
   ]
  },
  {
   "attachments": {},
   "cell_type": "markdown",
   "metadata": {},
   "source": [
    "✍ В этом модуле вы освоили ещё несколько возможностей из функционала SQL.\n",
    "\n",
    "Теперь вы умеете:\n",
    "\n",
    "присоединять таблицы «снизу», одну под другой;\n",
    "исключать или, наоборот, выбирать повторяющиеся записи из двух таблиц;\n",
    "вручную добавлять записи в таблицу."
   ]
  },
  {
   "attachments": {},
   "cell_type": "markdown",
   "metadata": {},
   "source": [
    "Запишем структуру запроса с учётом полученных знаний."
   ]
  },
  {
   "attachments": {},
   "cell_type": "markdown",
   "metadata": {},
   "source": [
    "SELECT \n",
    "\n",
    "N columns\n",
    "\n",
    "FROM \n",
    "\n",
    "table_1\n",
    "\n",
    "UNION / UNION ALL / EXCEPT / INTERSECT \n",
    "\n",
    "SELECT \n",
    "\n",
    "N columns\n",
    "\n",
    "FROM \n",
    "\n",
    "table_2"
   ]
  }
 ],
 "metadata": {
  "kernelspec": {
   "display_name": "Python 3",
   "language": "python",
   "name": "python3"
  },
  "language_info": {
   "codemirror_mode": {
    "name": "ipython",
    "version": 3
   },
   "file_extension": ".py",
   "mimetype": "text/x-python",
   "name": "python",
   "nbconvert_exporter": "python",
   "pygments_lexer": "ipython3",
   "version": "3.9.10"
  },
  "orig_nbformat": 4
 },
 "nbformat": 4,
 "nbformat_minor": 2
}
