score_game(random_predict)
